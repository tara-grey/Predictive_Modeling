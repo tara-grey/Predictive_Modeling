{
 "cells": [
  {
   "cell_type": "code",
   "execution_count": 37,
   "id": "20e26fb4-1794-4712-9dff-98d82a285d4b",
   "metadata": {
    "tags": []
   },
   "outputs": [],
   "source": [
    "import itertools\n",
    "import numpy as np\n",
    "import pandas as pd\n",
    "import matplotlib.pyplot as plt\n",
    "import statsmodels.api as sm\n",
    "from sklearn.preprocessing import PolynomialFeatures, scale\n",
    "from sklearn.model_selection import train_test_split, KFold, cross_val_score\n",
    "from sklearn.linear_model import LinearRegression, LassoCV, RidgeCV\n",
    "from sklearn.decomposition import PCA\n",
    "from sklearn.cross_decomposition import PLSRegression\n",
    "from sklearn.metrics import mean_squared_error"
   ]
  },
  {
   "cell_type": "markdown",
   "id": "4b05924f-6d04-4361-8cd2-b05f5d776839",
   "metadata": {},
   "source": [
    "## 2\n",
    "For parts (a) through (c), indicate which of i. through iv. is correct.\n",
    "Justify your answer."
   ]
  },
  {
   "cell_type": "markdown",
   "id": "1781bccf-64e0-47c9-b04f-ac60918066c9",
   "metadata": {
    "tags": []
   },
   "source": [
    "## (a) The lasso, relative to least squares, is:\n",
    "## i. More flexible and hence will give improved prediction ac-curacy when its increase in bias is less than its decrease invariance.\n",
    "## ii. More flexible and hence will give improved prediction accu-racy when its increase in variance is less than its decreasein bias.\n",
    "## iii. Less flexible and hence will give improved prediction accu-racy when its increase in bias is less than its decrease invariance.\n",
    "## iv. Less flexible and hence will give improved prediction accu-racy when its increase in variance is less than its decreasein bias."
   ]
  },
  {
   "cell_type": "markdown",
   "id": "9ef8a11a-0ced-4849-9ffd-ef947a8a5968",
   "metadata": {},
   "source": [
    "The answer is: \n",
    "- iii\n",
    "\n",
    "Because lasso increases bias by indroducing a \"budget restriction\" on the coefficients that shrinks their value. This will lead to more bias, where it is accepted to the point that there is a bigger decrease in variance. "
   ]
  },
  {
   "cell_type": "markdown",
   "id": "9c9a6138-b139-472a-b6d3-d6dd9d2bd578",
   "metadata": {},
   "source": [
    "## (b)\n",
    "Repeat (a) for ridge regression relative to least squares"
   ]
  },
  {
   "cell_type": "markdown",
   "id": "86e92f72-3cd1-44d8-a60d-72c060e72f3b",
   "metadata": {},
   "source": [
    "The answer is: \n",
    "- iii\n",
    "\n",
    "For the same reasons stated above for lasso other then the shape of the constrain on the coefficients between lasso and ridge. "
   ]
  },
  {
   "cell_type": "markdown",
   "id": "9c78cc51-f9b3-41ae-aaed-f20507b740f0",
   "metadata": {},
   "source": [
    "## (c) \n",
    "Repeat (a) for non-linear methods relative to least squares."
   ]
  },
  {
   "cell_type": "markdown",
   "id": "77525834-bb8d-4d04-8ec7-fcfc975c0709",
   "metadata": {},
   "source": [
    "Answer:\n",
    "- ii\n",
    "\n",
    "Non-linear methods are more flexible than least squares and will give an improved prediction accuracy when their increase in variance are less than their decrease in bias."
   ]
  },
  {
   "cell_type": "markdown",
   "id": "f63a0616-d081-474f-8595-2d8afe6600c8",
   "metadata": {},
   "source": [
    "## 9 \n",
    "In this exercise, we will predict the number of applications received\n",
    "using the other variables in the College data set"
   ]
  },
  {
   "cell_type": "code",
   "execution_count": null,
   "id": "0158aaab-fe84-46ec-a8bf-cc504afe5daf",
   "metadata": {},
   "outputs": [],
   "source": [
    "# don't need to do e and f"
   ]
  },
  {
   "cell_type": "code",
   "execution_count": 31,
   "id": "57ece13c-7fc0-4bf0-82b0-2dbd503a46a6",
   "metadata": {
    "tags": []
   },
   "outputs": [],
   "source": [
    "import pycaret\n",
    "import numpy as np\n",
    "import pandas as pd\n",
    "import matplotlib.pyplot as plt"
   ]
  },
  {
   "cell_type": "code",
   "execution_count": 32,
   "id": "b2df7379-8f60-4dc9-87db-72f5c3715a65",
   "metadata": {
    "tags": []
   },
   "outputs": [
    {
     "data": {
      "text/plain": [
       "Unnamed: 0     False\n",
       "Private        False\n",
       "Apps           False\n",
       "Accept         False\n",
       "Enroll         False\n",
       "Top10perc      False\n",
       "Top25perc      False\n",
       "F.Undergrad    False\n",
       "P.Undergrad    False\n",
       "Outstate       False\n",
       "Room.Board     False\n",
       "Books          False\n",
       "Personal       False\n",
       "PhD            False\n",
       "Terminal       False\n",
       "S.F.Ratio      False\n",
       "perc.alumni    False\n",
       "Expend         False\n",
       "Grad.Rate      False\n",
       "dtype: bool"
      ]
     },
     "execution_count": 32,
     "metadata": {},
     "output_type": "execute_result"
    }
   ],
   "source": [
    "college = pd.read_csv('https://raw.githubusercontent.com/nguyen-toan/ISLR/master/dataset/College.csv')\n",
    "college.isnull().any()"
   ]
  },
  {
   "cell_type": "code",
   "execution_count": 8,
   "id": "1e3d5684-48f2-45ad-9bf8-0be3525156f3",
   "metadata": {
    "tags": []
   },
   "outputs": [
    {
     "data": {
      "text/html": [
       "<div>\n",
       "<style scoped>\n",
       "    .dataframe tbody tr th:only-of-type {\n",
       "        vertical-align: middle;\n",
       "    }\n",
       "\n",
       "    .dataframe tbody tr th {\n",
       "        vertical-align: top;\n",
       "    }\n",
       "\n",
       "    .dataframe thead th {\n",
       "        text-align: right;\n",
       "    }\n",
       "</style>\n",
       "<table border=\"1\" class=\"dataframe\">\n",
       "  <thead>\n",
       "    <tr style=\"text-align: right;\">\n",
       "      <th></th>\n",
       "      <th>0</th>\n",
       "      <th>1</th>\n",
       "      <th>2</th>\n",
       "      <th>3</th>\n",
       "      <th>4</th>\n",
       "    </tr>\n",
       "  </thead>\n",
       "  <tbody>\n",
       "    <tr>\n",
       "      <th>Unnamed: 0</th>\n",
       "      <td>Abilene Christian University</td>\n",
       "      <td>Adelphi University</td>\n",
       "      <td>Adrian College</td>\n",
       "      <td>Agnes Scott College</td>\n",
       "      <td>Alaska Pacific University</td>\n",
       "    </tr>\n",
       "    <tr>\n",
       "      <th>Private</th>\n",
       "      <td>Yes</td>\n",
       "      <td>Yes</td>\n",
       "      <td>Yes</td>\n",
       "      <td>Yes</td>\n",
       "      <td>Yes</td>\n",
       "    </tr>\n",
       "    <tr>\n",
       "      <th>Apps</th>\n",
       "      <td>1660</td>\n",
       "      <td>2186</td>\n",
       "      <td>1428</td>\n",
       "      <td>417</td>\n",
       "      <td>193</td>\n",
       "    </tr>\n",
       "    <tr>\n",
       "      <th>Accept</th>\n",
       "      <td>1232</td>\n",
       "      <td>1924</td>\n",
       "      <td>1097</td>\n",
       "      <td>349</td>\n",
       "      <td>146</td>\n",
       "    </tr>\n",
       "    <tr>\n",
       "      <th>Enroll</th>\n",
       "      <td>721</td>\n",
       "      <td>512</td>\n",
       "      <td>336</td>\n",
       "      <td>137</td>\n",
       "      <td>55</td>\n",
       "    </tr>\n",
       "    <tr>\n",
       "      <th>Top10perc</th>\n",
       "      <td>23</td>\n",
       "      <td>16</td>\n",
       "      <td>22</td>\n",
       "      <td>60</td>\n",
       "      <td>16</td>\n",
       "    </tr>\n",
       "    <tr>\n",
       "      <th>Top25perc</th>\n",
       "      <td>52</td>\n",
       "      <td>29</td>\n",
       "      <td>50</td>\n",
       "      <td>89</td>\n",
       "      <td>44</td>\n",
       "    </tr>\n",
       "    <tr>\n",
       "      <th>F.Undergrad</th>\n",
       "      <td>2885</td>\n",
       "      <td>2683</td>\n",
       "      <td>1036</td>\n",
       "      <td>510</td>\n",
       "      <td>249</td>\n",
       "    </tr>\n",
       "    <tr>\n",
       "      <th>P.Undergrad</th>\n",
       "      <td>537</td>\n",
       "      <td>1227</td>\n",
       "      <td>99</td>\n",
       "      <td>63</td>\n",
       "      <td>869</td>\n",
       "    </tr>\n",
       "    <tr>\n",
       "      <th>Outstate</th>\n",
       "      <td>7440</td>\n",
       "      <td>12280</td>\n",
       "      <td>11250</td>\n",
       "      <td>12960</td>\n",
       "      <td>7560</td>\n",
       "    </tr>\n",
       "    <tr>\n",
       "      <th>Room.Board</th>\n",
       "      <td>3300</td>\n",
       "      <td>6450</td>\n",
       "      <td>3750</td>\n",
       "      <td>5450</td>\n",
       "      <td>4120</td>\n",
       "    </tr>\n",
       "    <tr>\n",
       "      <th>Books</th>\n",
       "      <td>450</td>\n",
       "      <td>750</td>\n",
       "      <td>400</td>\n",
       "      <td>450</td>\n",
       "      <td>800</td>\n",
       "    </tr>\n",
       "    <tr>\n",
       "      <th>Personal</th>\n",
       "      <td>2200</td>\n",
       "      <td>1500</td>\n",
       "      <td>1165</td>\n",
       "      <td>875</td>\n",
       "      <td>1500</td>\n",
       "    </tr>\n",
       "    <tr>\n",
       "      <th>PhD</th>\n",
       "      <td>70</td>\n",
       "      <td>29</td>\n",
       "      <td>53</td>\n",
       "      <td>92</td>\n",
       "      <td>76</td>\n",
       "    </tr>\n",
       "    <tr>\n",
       "      <th>Terminal</th>\n",
       "      <td>78</td>\n",
       "      <td>30</td>\n",
       "      <td>66</td>\n",
       "      <td>97</td>\n",
       "      <td>72</td>\n",
       "    </tr>\n",
       "    <tr>\n",
       "      <th>S.F.Ratio</th>\n",
       "      <td>18.1</td>\n",
       "      <td>12.2</td>\n",
       "      <td>12.9</td>\n",
       "      <td>7.7</td>\n",
       "      <td>11.9</td>\n",
       "    </tr>\n",
       "    <tr>\n",
       "      <th>perc.alumni</th>\n",
       "      <td>12</td>\n",
       "      <td>16</td>\n",
       "      <td>30</td>\n",
       "      <td>37</td>\n",
       "      <td>2</td>\n",
       "    </tr>\n",
       "    <tr>\n",
       "      <th>Expend</th>\n",
       "      <td>7041</td>\n",
       "      <td>10527</td>\n",
       "      <td>8735</td>\n",
       "      <td>19016</td>\n",
       "      <td>10922</td>\n",
       "    </tr>\n",
       "    <tr>\n",
       "      <th>Grad.Rate</th>\n",
       "      <td>60</td>\n",
       "      <td>56</td>\n",
       "      <td>54</td>\n",
       "      <td>59</td>\n",
       "      <td>15</td>\n",
       "    </tr>\n",
       "  </tbody>\n",
       "</table>\n",
       "</div>"
      ],
      "text/plain": [
       "                                        0                   1               2  \\\n",
       "Unnamed: 0   Abilene Christian University  Adelphi University  Adrian College   \n",
       "Private                               Yes                 Yes             Yes   \n",
       "Apps                                 1660                2186            1428   \n",
       "Accept                               1232                1924            1097   \n",
       "Enroll                                721                 512             336   \n",
       "Top10perc                              23                  16              22   \n",
       "Top25perc                              52                  29              50   \n",
       "F.Undergrad                          2885                2683            1036   \n",
       "P.Undergrad                           537                1227              99   \n",
       "Outstate                             7440               12280           11250   \n",
       "Room.Board                           3300                6450            3750   \n",
       "Books                                 450                 750             400   \n",
       "Personal                             2200                1500            1165   \n",
       "PhD                                    70                  29              53   \n",
       "Terminal                               78                  30              66   \n",
       "S.F.Ratio                            18.1                12.2            12.9   \n",
       "perc.alumni                            12                  16              30   \n",
       "Expend                               7041               10527            8735   \n",
       "Grad.Rate                              60                  56              54   \n",
       "\n",
       "                               3                          4  \n",
       "Unnamed: 0   Agnes Scott College  Alaska Pacific University  \n",
       "Private                      Yes                        Yes  \n",
       "Apps                         417                        193  \n",
       "Accept                       349                        146  \n",
       "Enroll                       137                         55  \n",
       "Top10perc                     60                         16  \n",
       "Top25perc                     89                         44  \n",
       "F.Undergrad                  510                        249  \n",
       "P.Undergrad                   63                        869  \n",
       "Outstate                   12960                       7560  \n",
       "Room.Board                  5450                       4120  \n",
       "Books                        450                        800  \n",
       "Personal                     875                       1500  \n",
       "PhD                           92                         76  \n",
       "Terminal                      97                         72  \n",
       "S.F.Ratio                    7.7                       11.9  \n",
       "perc.alumni                   37                          2  \n",
       "Expend                     19016                      10922  \n",
       "Grad.Rate                     59                         15  "
      ]
     },
     "execution_count": 8,
     "metadata": {},
     "output_type": "execute_result"
    }
   ],
   "source": [
    "college.head().T"
   ]
  },
  {
   "cell_type": "code",
   "execution_count": 33,
   "id": "966ff7aa-d269-4ffa-8df1-15c52267261e",
   "metadata": {
    "tags": []
   },
   "outputs": [],
   "source": [
    "school_name = college.iloc[:,0] \n",
    "college     = college.rename(index = lambda x: school_name[x]) \n",
    "college.drop(college.columns[[0]], axis=1, inplace=True)\n",
    "\n",
    "college['Private01'] = np.where(college.Private=='Yes', 1, 0)\n",
    "college.drop(['Private'], axis = 1, inplace=True)"
   ]
  },
  {
   "cell_type": "code",
   "execution_count": 17,
   "id": "848baf0e-3255-4ec9-b441-d1ded28a056b",
   "metadata": {
    "tags": []
   },
   "outputs": [
    {
     "data": {
      "text/html": [],
      "text/plain": [
       "<IPython.core.display.HTML object>"
      ]
     },
     "metadata": {},
     "output_type": "display_data"
    },
    {
     "data": {
      "text/html": [
       "<style type=\"text/css\">\n",
       "#T_cefa2 th {\n",
       "  text-align: left;\n",
       "}\n",
       "#T_cefa2_row0_col0, #T_cefa2_row1_col0, #T_cefa2_row1_col1, #T_cefa2_row1_col2, #T_cefa2_row1_col3, #T_cefa2_row1_col4, #T_cefa2_row1_col5, #T_cefa2_row1_col6, #T_cefa2_row2_col0, #T_cefa2_row2_col1, #T_cefa2_row2_col2, #T_cefa2_row2_col3, #T_cefa2_row2_col4, #T_cefa2_row2_col5, #T_cefa2_row2_col6, #T_cefa2_row3_col0, #T_cefa2_row3_col1, #T_cefa2_row3_col2, #T_cefa2_row3_col3, #T_cefa2_row3_col4, #T_cefa2_row3_col5, #T_cefa2_row3_col6, #T_cefa2_row4_col0, #T_cefa2_row4_col1, #T_cefa2_row4_col2, #T_cefa2_row4_col3, #T_cefa2_row4_col4, #T_cefa2_row4_col5, #T_cefa2_row4_col6, #T_cefa2_row5_col0, #T_cefa2_row5_col1, #T_cefa2_row5_col2, #T_cefa2_row5_col3, #T_cefa2_row5_col4, #T_cefa2_row5_col5, #T_cefa2_row5_col6, #T_cefa2_row6_col0, #T_cefa2_row6_col1, #T_cefa2_row6_col2, #T_cefa2_row6_col3, #T_cefa2_row6_col4, #T_cefa2_row6_col5, #T_cefa2_row6_col6, #T_cefa2_row7_col0, #T_cefa2_row7_col1, #T_cefa2_row7_col2, #T_cefa2_row7_col3, #T_cefa2_row7_col4, #T_cefa2_row7_col5, #T_cefa2_row7_col6, #T_cefa2_row8_col0, #T_cefa2_row8_col1, #T_cefa2_row8_col2, #T_cefa2_row8_col3, #T_cefa2_row8_col4, #T_cefa2_row8_col5, #T_cefa2_row8_col6, #T_cefa2_row9_col0, #T_cefa2_row9_col1, #T_cefa2_row9_col2, #T_cefa2_row9_col3, #T_cefa2_row9_col4, #T_cefa2_row9_col5, #T_cefa2_row9_col6, #T_cefa2_row10_col0, #T_cefa2_row10_col1, #T_cefa2_row10_col2, #T_cefa2_row10_col3, #T_cefa2_row10_col4, #T_cefa2_row10_col5, #T_cefa2_row10_col6, #T_cefa2_row11_col0, #T_cefa2_row11_col1, #T_cefa2_row11_col2, #T_cefa2_row11_col3, #T_cefa2_row11_col4, #T_cefa2_row11_col5, #T_cefa2_row11_col6, #T_cefa2_row12_col0, #T_cefa2_row12_col1, #T_cefa2_row12_col2, #T_cefa2_row12_col3, #T_cefa2_row12_col4, #T_cefa2_row12_col5, #T_cefa2_row12_col6, #T_cefa2_row13_col0, #T_cefa2_row13_col1, #T_cefa2_row13_col2, #T_cefa2_row13_col3, #T_cefa2_row13_col4, #T_cefa2_row13_col5, #T_cefa2_row13_col6, #T_cefa2_row14_col0, #T_cefa2_row14_col1, #T_cefa2_row14_col2, #T_cefa2_row14_col3, #T_cefa2_row14_col4, #T_cefa2_row14_col5, #T_cefa2_row14_col6, #T_cefa2_row15_col0, #T_cefa2_row15_col1, #T_cefa2_row15_col2, #T_cefa2_row15_col3, #T_cefa2_row15_col4, #T_cefa2_row15_col5, #T_cefa2_row15_col6, #T_cefa2_row16_col0, #T_cefa2_row16_col1, #T_cefa2_row16_col2, #T_cefa2_row16_col3, #T_cefa2_row16_col4, #T_cefa2_row16_col5, #T_cefa2_row16_col6, #T_cefa2_row17_col0, #T_cefa2_row17_col1, #T_cefa2_row17_col2, #T_cefa2_row17_col3, #T_cefa2_row17_col4, #T_cefa2_row17_col5, #T_cefa2_row17_col6 {\n",
       "  text-align: left;\n",
       "}\n",
       "#T_cefa2_row0_col1, #T_cefa2_row0_col2, #T_cefa2_row0_col3, #T_cefa2_row0_col4, #T_cefa2_row0_col5, #T_cefa2_row0_col6 {\n",
       "  text-align: left;\n",
       "  background-color: yellow;\n",
       "}\n",
       "#T_cefa2_row0_col7, #T_cefa2_row2_col7, #T_cefa2_row3_col7, #T_cefa2_row4_col7, #T_cefa2_row5_col7, #T_cefa2_row6_col7, #T_cefa2_row7_col7, #T_cefa2_row8_col7, #T_cefa2_row9_col7, #T_cefa2_row10_col7, #T_cefa2_row11_col7, #T_cefa2_row12_col7, #T_cefa2_row13_col7, #T_cefa2_row14_col7, #T_cefa2_row15_col7, #T_cefa2_row16_col7, #T_cefa2_row17_col7 {\n",
       "  text-align: left;\n",
       "  background-color: lightgrey;\n",
       "}\n",
       "#T_cefa2_row1_col7 {\n",
       "  text-align: left;\n",
       "  background-color: yellow;\n",
       "  background-color: lightgrey;\n",
       "}\n",
       "</style>\n",
       "<table id=\"T_cefa2\">\n",
       "  <thead>\n",
       "    <tr>\n",
       "      <th class=\"blank level0\" >&nbsp;</th>\n",
       "      <th id=\"T_cefa2_level0_col0\" class=\"col_heading level0 col0\" >Model</th>\n",
       "      <th id=\"T_cefa2_level0_col1\" class=\"col_heading level0 col1\" >MAE</th>\n",
       "      <th id=\"T_cefa2_level0_col2\" class=\"col_heading level0 col2\" >MSE</th>\n",
       "      <th id=\"T_cefa2_level0_col3\" class=\"col_heading level0 col3\" >RMSE</th>\n",
       "      <th id=\"T_cefa2_level0_col4\" class=\"col_heading level0 col4\" >R2</th>\n",
       "      <th id=\"T_cefa2_level0_col5\" class=\"col_heading level0 col5\" >RMSLE</th>\n",
       "      <th id=\"T_cefa2_level0_col6\" class=\"col_heading level0 col6\" >MAPE</th>\n",
       "      <th id=\"T_cefa2_level0_col7\" class=\"col_heading level0 col7\" >TT (Sec)</th>\n",
       "    </tr>\n",
       "  </thead>\n",
       "  <tbody>\n",
       "    <tr>\n",
       "      <th id=\"T_cefa2_level0_row0\" class=\"row_heading level0 row0\" >huber</th>\n",
       "      <td id=\"T_cefa2_row0_col0\" class=\"data row0 col0\" >Huber Regressor</td>\n",
       "      <td id=\"T_cefa2_row0_col1\" class=\"data row0 col1\" >533.4990</td>\n",
       "      <td id=\"T_cefa2_row0_col2\" class=\"data row0 col2\" >1627004.9538</td>\n",
       "      <td id=\"T_cefa2_row0_col3\" class=\"data row0 col3\" >1159.2695</td>\n",
       "      <td id=\"T_cefa2_row0_col4\" class=\"data row0 col4\" >0.8822</td>\n",
       "      <td id=\"T_cefa2_row0_col5\" class=\"data row0 col5\" >0.2696</td>\n",
       "      <td id=\"T_cefa2_row0_col6\" class=\"data row0 col6\" >0.1689</td>\n",
       "      <td id=\"T_cefa2_row0_col7\" class=\"data row0 col7\" >0.0310</td>\n",
       "    </tr>\n",
       "    <tr>\n",
       "      <th id=\"T_cefa2_level0_row1\" class=\"row_heading level0 row1\" >par</th>\n",
       "      <td id=\"T_cefa2_row1_col0\" class=\"data row1 col0\" >Passive Aggressive Regressor</td>\n",
       "      <td id=\"T_cefa2_row1_col1\" class=\"data row1 col1\" >732.1308</td>\n",
       "      <td id=\"T_cefa2_row1_col2\" class=\"data row1 col2\" >1701811.5811</td>\n",
       "      <td id=\"T_cefa2_row1_col3\" class=\"data row1 col3\" >1251.3972</td>\n",
       "      <td id=\"T_cefa2_row1_col4\" class=\"data row1 col4\" >0.8619</td>\n",
       "      <td id=\"T_cefa2_row1_col5\" class=\"data row1 col5\" >0.7591</td>\n",
       "      <td id=\"T_cefa2_row1_col6\" class=\"data row1 col6\" >0.4996</td>\n",
       "      <td id=\"T_cefa2_row1_col7\" class=\"data row1 col7\" >0.0220</td>\n",
       "    </tr>\n",
       "    <tr>\n",
       "      <th id=\"T_cefa2_level0_row2\" class=\"row_heading level0 row2\" >knn</th>\n",
       "      <td id=\"T_cefa2_row2_col0\" class=\"data row2 col0\" >K Neighbors Regressor</td>\n",
       "      <td id=\"T_cefa2_row2_col1\" class=\"data row2 col1\" >778.5211</td>\n",
       "      <td id=\"T_cefa2_row2_col2\" class=\"data row2 col2\" >3756820.6066</td>\n",
       "      <td id=\"T_cefa2_row2_col3\" class=\"data row2 col3\" >1584.4866</td>\n",
       "      <td id=\"T_cefa2_row2_col4\" class=\"data row2 col4\" >0.8191</td>\n",
       "      <td id=\"T_cefa2_row2_col5\" class=\"data row2 col5\" >0.4247</td>\n",
       "      <td id=\"T_cefa2_row2_col6\" class=\"data row2 col6\" >0.3898</td>\n",
       "      <td id=\"T_cefa2_row2_col7\" class=\"data row2 col7\" >0.0340</td>\n",
       "    </tr>\n",
       "    <tr>\n",
       "      <th id=\"T_cefa2_level0_row3\" class=\"row_heading level0 row3\" >omp</th>\n",
       "      <td id=\"T_cefa2_row3_col0\" class=\"data row3 col0\" >Orthogonal Matching Pursuit</td>\n",
       "      <td id=\"T_cefa2_row3_col1\" class=\"data row3 col1\" >1217.4538</td>\n",
       "      <td id=\"T_cefa2_row3_col2\" class=\"data row3 col2\" >5949987.1983</td>\n",
       "      <td id=\"T_cefa2_row3_col3\" class=\"data row3 col3\" >2186.4822</td>\n",
       "      <td id=\"T_cefa2_row3_col4\" class=\"data row3 col4\" >0.6122</td>\n",
       "      <td id=\"T_cefa2_row3_col5\" class=\"data row3 col5\" >0.6221</td>\n",
       "      <td id=\"T_cefa2_row3_col6\" class=\"data row3 col6\" >0.7069</td>\n",
       "      <td id=\"T_cefa2_row3_col7\" class=\"data row3 col7\" >0.0250</td>\n",
       "    </tr>\n",
       "    <tr>\n",
       "      <th id=\"T_cefa2_level0_row4\" class=\"row_heading level0 row4\" >et</th>\n",
       "      <td id=\"T_cefa2_row4_col0\" class=\"data row4 col0\" >Extra Trees Regressor</td>\n",
       "      <td id=\"T_cefa2_row4_col1\" class=\"data row4 col1\" >2117.4911</td>\n",
       "      <td id=\"T_cefa2_row4_col2\" class=\"data row4 col2\" >10748027.1167</td>\n",
       "      <td id=\"T_cefa2_row4_col3\" class=\"data row4 col3\" >2976.8571</td>\n",
       "      <td id=\"T_cefa2_row4_col4\" class=\"data row4 col4\" >0.3306</td>\n",
       "      <td id=\"T_cefa2_row4_col5\" class=\"data row4 col5\" >1.0799</td>\n",
       "      <td id=\"T_cefa2_row4_col6\" class=\"data row4 col6\" >1.9174</td>\n",
       "      <td id=\"T_cefa2_row4_col7\" class=\"data row4 col7\" >0.0840</td>\n",
       "    </tr>\n",
       "    <tr>\n",
       "      <th id=\"T_cefa2_level0_row5\" class=\"row_heading level0 row5\" >lightgbm</th>\n",
       "      <td id=\"T_cefa2_row5_col0\" class=\"data row5 col0\" >Light Gradient Boosting Machine</td>\n",
       "      <td id=\"T_cefa2_row5_col1\" class=\"data row5 col1\" >2454.5358</td>\n",
       "      <td id=\"T_cefa2_row5_col2\" class=\"data row5 col2\" >13820016.8307</td>\n",
       "      <td id=\"T_cefa2_row5_col3\" class=\"data row5 col3\" >3405.7649</td>\n",
       "      <td id=\"T_cefa2_row5_col4\" class=\"data row5 col4\" >0.1102</td>\n",
       "      <td id=\"T_cefa2_row5_col5\" class=\"data row5 col5\" >1.2102</td>\n",
       "      <td id=\"T_cefa2_row5_col6\" class=\"data row5 col6\" >2.3592</td>\n",
       "      <td id=\"T_cefa2_row5_col7\" class=\"data row5 col7\" >0.1570</td>\n",
       "    </tr>\n",
       "    <tr>\n",
       "      <th id=\"T_cefa2_level0_row6\" class=\"row_heading level0 row6\" >ada</th>\n",
       "      <td id=\"T_cefa2_row6_col0\" class=\"data row6 col0\" >AdaBoost Regressor</td>\n",
       "      <td id=\"T_cefa2_row6_col1\" class=\"data row6 col1\" >2536.0425</td>\n",
       "      <td id=\"T_cefa2_row6_col2\" class=\"data row6 col2\" >15919152.2910</td>\n",
       "      <td id=\"T_cefa2_row6_col3\" class=\"data row6 col3\" >3673.8180</td>\n",
       "      <td id=\"T_cefa2_row6_col4\" class=\"data row6 col4\" >-0.0256</td>\n",
       "      <td id=\"T_cefa2_row6_col5\" class=\"data row6 col5\" >1.2157</td>\n",
       "      <td id=\"T_cefa2_row6_col6\" class=\"data row6 col6\" >2.2440</td>\n",
       "      <td id=\"T_cefa2_row6_col7\" class=\"data row6 col7\" >0.0470</td>\n",
       "    </tr>\n",
       "    <tr>\n",
       "      <th id=\"T_cefa2_level0_row7\" class=\"row_heading level0 row7\" >gbr</th>\n",
       "      <td id=\"T_cefa2_row7_col0\" class=\"data row7 col0\" >Gradient Boosting Regressor</td>\n",
       "      <td id=\"T_cefa2_row7_col1\" class=\"data row7 col1\" >2593.3028</td>\n",
       "      <td id=\"T_cefa2_row7_col2\" class=\"data row7 col2\" >15839114.8065</td>\n",
       "      <td id=\"T_cefa2_row7_col3\" class=\"data row7 col3\" >3677.3674</td>\n",
       "      <td id=\"T_cefa2_row7_col4\" class=\"data row7 col4\" >-0.0357</td>\n",
       "      <td id=\"T_cefa2_row7_col5\" class=\"data row7 col5\" >1.2416</td>\n",
       "      <td id=\"T_cefa2_row7_col6\" class=\"data row7 col6\" >2.3945</td>\n",
       "      <td id=\"T_cefa2_row7_col7\" class=\"data row7 col7\" >0.0740</td>\n",
       "    </tr>\n",
       "    <tr>\n",
       "      <th id=\"T_cefa2_level0_row8\" class=\"row_heading level0 row8\" >rf</th>\n",
       "      <td id=\"T_cefa2_row8_col0\" class=\"data row8 col0\" >Random Forest Regressor</td>\n",
       "      <td id=\"T_cefa2_row8_col1\" class=\"data row8 col1\" >2599.2004</td>\n",
       "      <td id=\"T_cefa2_row8_col2\" class=\"data row8 col2\" >15888746.2409</td>\n",
       "      <td id=\"T_cefa2_row8_col3\" class=\"data row8 col3\" >3684.1290</td>\n",
       "      <td id=\"T_cefa2_row8_col4\" class=\"data row8 col4\" >-0.0399</td>\n",
       "      <td id=\"T_cefa2_row8_col5\" class=\"data row8 col5\" >1.2439</td>\n",
       "      <td id=\"T_cefa2_row8_col6\" class=\"data row8 col6\" >2.4040</td>\n",
       "      <td id=\"T_cefa2_row8_col7\" class=\"data row8 col7\" >0.1290</td>\n",
       "    </tr>\n",
       "    <tr>\n",
       "      <th id=\"T_cefa2_level0_row9\" class=\"row_heading level0 row9\" >llar</th>\n",
       "      <td id=\"T_cefa2_row9_col0\" class=\"data row9 col0\" >Lasso Least Angle Regression</td>\n",
       "      <td id=\"T_cefa2_row9_col1\" class=\"data row9 col1\" >2595.5952</td>\n",
       "      <td id=\"T_cefa2_row9_col2\" class=\"data row9 col2\" >15924347.1014</td>\n",
       "      <td id=\"T_cefa2_row9_col3\" class=\"data row9 col3\" >3687.3093</td>\n",
       "      <td id=\"T_cefa2_row9_col4\" class=\"data row9 col4\" >-0.0408</td>\n",
       "      <td id=\"T_cefa2_row9_col5\" class=\"data row9 col5\" >1.2428</td>\n",
       "      <td id=\"T_cefa2_row9_col6\" class=\"data row9 col6\" >2.3942</td>\n",
       "      <td id=\"T_cefa2_row9_col7\" class=\"data row9 col7\" >0.0250</td>\n",
       "    </tr>\n",
       "    <tr>\n",
       "      <th id=\"T_cefa2_level0_row10\" class=\"row_heading level0 row10\" >lr</th>\n",
       "      <td id=\"T_cefa2_row10_col0\" class=\"data row10 col0\" >Linear Regression</td>\n",
       "      <td id=\"T_cefa2_row10_col1\" class=\"data row10 col1\" >2595.6068</td>\n",
       "      <td id=\"T_cefa2_row10_col2\" class=\"data row10 col2\" >15924487.0100</td>\n",
       "      <td id=\"T_cefa2_row10_col3\" class=\"data row10 col3\" >3687.3254</td>\n",
       "      <td id=\"T_cefa2_row10_col4\" class=\"data row10 col4\" >-0.0408</td>\n",
       "      <td id=\"T_cefa2_row10_col5\" class=\"data row10 col5\" >1.2428</td>\n",
       "      <td id=\"T_cefa2_row10_col6\" class=\"data row10 col6\" >2.3942</td>\n",
       "      <td id=\"T_cefa2_row10_col7\" class=\"data row10 col7\" >0.0260</td>\n",
       "    </tr>\n",
       "    <tr>\n",
       "      <th id=\"T_cefa2_level0_row11\" class=\"row_heading level0 row11\" >br</th>\n",
       "      <td id=\"T_cefa2_row11_col0\" class=\"data row11 col0\" >Bayesian Ridge</td>\n",
       "      <td id=\"T_cefa2_row11_col1\" class=\"data row11 col1\" >2595.6068</td>\n",
       "      <td id=\"T_cefa2_row11_col2\" class=\"data row11 col2\" >15924487.0100</td>\n",
       "      <td id=\"T_cefa2_row11_col3\" class=\"data row11 col3\" >3687.3254</td>\n",
       "      <td id=\"T_cefa2_row11_col4\" class=\"data row11 col4\" >-0.0408</td>\n",
       "      <td id=\"T_cefa2_row11_col5\" class=\"data row11 col5\" >1.2428</td>\n",
       "      <td id=\"T_cefa2_row11_col6\" class=\"data row11 col6\" >2.3942</td>\n",
       "      <td id=\"T_cefa2_row11_col7\" class=\"data row11 col7\" >0.0250</td>\n",
       "    </tr>\n",
       "    <tr>\n",
       "      <th id=\"T_cefa2_level0_row12\" class=\"row_heading level0 row12\" >lasso</th>\n",
       "      <td id=\"T_cefa2_row12_col0\" class=\"data row12 col0\" >Lasso Regression</td>\n",
       "      <td id=\"T_cefa2_row12_col1\" class=\"data row12 col1\" >2595.6048</td>\n",
       "      <td id=\"T_cefa2_row12_col2\" class=\"data row12 col2\" >15924461.7788</td>\n",
       "      <td id=\"T_cefa2_row12_col3\" class=\"data row12 col3\" >3687.3226</td>\n",
       "      <td id=\"T_cefa2_row12_col4\" class=\"data row12 col4\" >-0.0408</td>\n",
       "      <td id=\"T_cefa2_row12_col5\" class=\"data row12 col5\" >1.2428</td>\n",
       "      <td id=\"T_cefa2_row12_col6\" class=\"data row12 col6\" >2.3942</td>\n",
       "      <td id=\"T_cefa2_row12_col7\" class=\"data row12 col7\" >0.0240</td>\n",
       "    </tr>\n",
       "    <tr>\n",
       "      <th id=\"T_cefa2_level0_row13\" class=\"row_heading level0 row13\" >en</th>\n",
       "      <td id=\"T_cefa2_row13_col0\" class=\"data row13 col0\" >Elastic Net</td>\n",
       "      <td id=\"T_cefa2_row13_col1\" class=\"data row13 col1\" >2595.5965</td>\n",
       "      <td id=\"T_cefa2_row13_col2\" class=\"data row13 col2\" >15924355.8975</td>\n",
       "      <td id=\"T_cefa2_row13_col3\" class=\"data row13 col3\" >3687.3109</td>\n",
       "      <td id=\"T_cefa2_row13_col4\" class=\"data row13 col4\" >-0.0408</td>\n",
       "      <td id=\"T_cefa2_row13_col5\" class=\"data row13 col5\" >1.2428</td>\n",
       "      <td id=\"T_cefa2_row13_col6\" class=\"data row13 col6\" >2.3942</td>\n",
       "      <td id=\"T_cefa2_row13_col7\" class=\"data row13 col7\" >0.0230</td>\n",
       "    </tr>\n",
       "    <tr>\n",
       "      <th id=\"T_cefa2_level0_row14\" class=\"row_heading level0 row14\" >ridge</th>\n",
       "      <td id=\"T_cefa2_row14_col0\" class=\"data row14 col0\" >Ridge Regression</td>\n",
       "      <td id=\"T_cefa2_row14_col1\" class=\"data row14 col1\" >2595.6065</td>\n",
       "      <td id=\"T_cefa2_row14_col2\" class=\"data row14 col2\" >15924483.1900</td>\n",
       "      <td id=\"T_cefa2_row14_col3\" class=\"data row14 col3\" >3687.3250</td>\n",
       "      <td id=\"T_cefa2_row14_col4\" class=\"data row14 col4\" >-0.0408</td>\n",
       "      <td id=\"T_cefa2_row14_col5\" class=\"data row14 col5\" >1.2428</td>\n",
       "      <td id=\"T_cefa2_row14_col6\" class=\"data row14 col6\" >2.3942</td>\n",
       "      <td id=\"T_cefa2_row14_col7\" class=\"data row14 col7\" >0.0240</td>\n",
       "    </tr>\n",
       "    <tr>\n",
       "      <th id=\"T_cefa2_level0_row15\" class=\"row_heading level0 row15\" >dummy</th>\n",
       "      <td id=\"T_cefa2_row15_col0\" class=\"data row15 col0\" >Dummy Regressor</td>\n",
       "      <td id=\"T_cefa2_row15_col1\" class=\"data row15 col1\" >2595.6068</td>\n",
       "      <td id=\"T_cefa2_row15_col2\" class=\"data row15 col2\" >15924487.0100</td>\n",
       "      <td id=\"T_cefa2_row15_col3\" class=\"data row15 col3\" >3687.3254</td>\n",
       "      <td id=\"T_cefa2_row15_col4\" class=\"data row15 col4\" >-0.0408</td>\n",
       "      <td id=\"T_cefa2_row15_col5\" class=\"data row15 col5\" >1.2428</td>\n",
       "      <td id=\"T_cefa2_row15_col6\" class=\"data row15 col6\" >2.3942</td>\n",
       "      <td id=\"T_cefa2_row15_col7\" class=\"data row15 col7\" >0.0240</td>\n",
       "    </tr>\n",
       "    <tr>\n",
       "      <th id=\"T_cefa2_level0_row16\" class=\"row_heading level0 row16\" >dt</th>\n",
       "      <td id=\"T_cefa2_row16_col0\" class=\"data row16 col0\" >Decision Tree Regressor</td>\n",
       "      <td id=\"T_cefa2_row16_col1\" class=\"data row16 col1\" >2612.6069</td>\n",
       "      <td id=\"T_cefa2_row16_col2\" class=\"data row16 col2\" >15948761.5053</td>\n",
       "      <td id=\"T_cefa2_row16_col3\" class=\"data row16 col3\" >3694.3013</td>\n",
       "      <td id=\"T_cefa2_row16_col4\" class=\"data row16 col4\" >-0.0483</td>\n",
       "      <td id=\"T_cefa2_row16_col5\" class=\"data row16 col5\" >1.2487</td>\n",
       "      <td id=\"T_cefa2_row16_col6\" class=\"data row16 col6\" >2.4231</td>\n",
       "      <td id=\"T_cefa2_row16_col7\" class=\"data row16 col7\" >0.0250</td>\n",
       "    </tr>\n",
       "    <tr>\n",
       "      <th id=\"T_cefa2_level0_row17\" class=\"row_heading level0 row17\" >lar</th>\n",
       "      <td id=\"T_cefa2_row17_col0\" class=\"data row17 col0\" >Least Angle Regression</td>\n",
       "      <td id=\"T_cefa2_row17_col1\" class=\"data row17 col1\" >2782.8172</td>\n",
       "      <td id=\"T_cefa2_row17_col2\" class=\"data row17 col2\" >18115682.8382</td>\n",
       "      <td id=\"T_cefa2_row17_col3\" class=\"data row17 col3\" >3979.4044</td>\n",
       "      <td id=\"T_cefa2_row17_col4\" class=\"data row17 col4\" >-0.2378</td>\n",
       "      <td id=\"T_cefa2_row17_col5\" class=\"data row17 col5\" >1.3290</td>\n",
       "      <td id=\"T_cefa2_row17_col6\" class=\"data row17 col6\" >2.5261</td>\n",
       "      <td id=\"T_cefa2_row17_col7\" class=\"data row17 col7\" >0.0240</td>\n",
       "    </tr>\n",
       "  </tbody>\n",
       "</table>\n"
      ],
      "text/plain": [
       "<pandas.io.formats.style.Styler at 0x206a1df6fd0>"
      ]
     },
     "metadata": {},
     "output_type": "display_data"
    },
    {
     "data": {
      "text/html": [],
      "text/plain": [
       "<IPython.core.display.HTML object>"
      ]
     },
     "metadata": {},
     "output_type": "display_data"
    }
   ],
   "source": [
    "best = compare_models() "
   ]
  },
  {
   "cell_type": "markdown",
   "id": "8f0047d0-e074-449f-8f02-c7ba282b876c",
   "metadata": {},
   "source": [
    "## (a) Split the data set into a training set and a test set"
   ]
  },
  {
   "cell_type": "code",
   "execution_count": 29,
   "id": "e75f2c1e-c5d0-4c3a-ade7-57ce387ba7c3",
   "metadata": {
    "tags": []
   },
   "outputs": [],
   "source": [
    "X = college.drop(['Apps'], axis = 1).astype('float64')\n",
    "Y = college['Apps']\n",
    "xtrain, xtest, ytrain, ytest = train_test_split(X, Y, test_size=0.5, random_state=1)"
   ]
  },
  {
   "cell_type": "markdown",
   "id": "7977ab2c-058f-4e77-9f35-83d6b33e78bf",
   "metadata": {
    "tags": []
   },
   "source": [
    "## (b) Fit a linear model using least squares on the training set, andreport the test error obtained."
   ]
  },
  {
   "cell_type": "code",
   "execution_count": 34,
   "id": "498190eb-3fff-46a1-9be6-89458652608e",
   "metadata": {
    "tags": []
   },
   "outputs": [
    {
     "name": "stdout",
     "output_type": "stream",
     "text": [
      "1425055.5873112339\n"
     ]
    }
   ],
   "source": [
    "lm      = LinearRegression().fit(xtrain, ytrain)\n",
    "lm_pred = lm.predict(xtest)\n",
    "lm_err  = mean_squared_error(ytest, lm_pred)\n",
    "print(lm_err)"
   ]
  },
  {
   "cell_type": "markdown",
   "id": "139e73a0-989c-4832-b013-ed503443e4d8",
   "metadata": {},
   "source": [
    "## (c) Fit a ridge regression model on the training set, with λ chosenby cross-validation. Report the test error obtained."
   ]
  },
  {
   "cell_type": "code",
   "execution_count": 41,
   "id": "4a81422c-8e61-46c2-a18b-a4b4fa66b914",
   "metadata": {
    "tags": []
   },
   "outputs": [
    {
     "name": "stdout",
     "output_type": "stream",
     "text": [
      "1426268.8139525312\n"
     ]
    }
   ],
   "source": [
    "alphas     = 10**np.linspace(10,-2,100)*0.5\n",
    "ridgecv    = RidgeCV(alphas=alphas).fit(xtrain, ytrain) #LOOCV\n",
    "ridge_pred = ridgecv.predict(xtest)\n",
    "ridge_err  = mean_squared_error(ytest, ridge_pred) \n",
    "ridge_coef = pd.Series(ridgecv.coef_, index = xtrain.columns)\n",
    "print(ridge_err)"
   ]
  },
  {
   "cell_type": "markdown",
   "id": "5c6d10a0-105c-4bb4-8663-dc25928168e1",
   "metadata": {},
   "source": [
    "## (d) Fit a lasso model on the training set, with λ chosen by cross-validation. Report the test error obtained, along with the number of non-zero coefficient estimates"
   ]
  },
  {
   "cell_type": "code",
   "execution_count": 43,
   "id": "1bada743-93c4-4a0f-baeb-fe0e061dbc9c",
   "metadata": {
    "tags": []
   },
   "outputs": [
    {
     "name": "stdout",
     "output_type": "stream",
     "text": [
      "1523659.0488120934\n",
      "# of non-zero coef estimates: 8\n"
     ]
    }
   ],
   "source": [
    "lassocv    = LassoCV(cv=len(ytrain)).fit(xtrain, ytrain) #LOOCV\n",
    "lasso_pred = lassocv.predict(xtest)\n",
    "lasso_err  = mean_squared_error(ytest, lasso_pred) \n",
    "lasso_coef = pd.Series(lassocv.coef_, index = xtrain.columns)\n",
    "print(lasso_err)\n",
    "print('# of non-zero coef estimates: %i' %lasso_coef[lasso_coef != 0].count()) "
   ]
  },
  {
   "cell_type": "markdown",
   "id": "82dfbfad-044c-465a-a824-5b24955dbd5c",
   "metadata": {},
   "source": [
    "## (g) Comment on the results obtained. How accurately can we pre-dict the number of college applications received? Is there much difference among the test errors resulting from these three approaches?"
   ]
  },
  {
   "cell_type": "markdown",
   "id": "09bad369-4495-4cfc-b01a-3e571bb2656f",
   "metadata": {},
   "source": [
    "- Based on the three models MSE it can be said that we are not very good accurately predicting the number of college applications. The best model out of these three models was the linear model with only 1425055 MSE while the lasso model had the worst MSE at 1523659 and the ridge regression model was the closet to the linear model at having the MSE be 1426268\n"
   ]
  },
  {
   "cell_type": "markdown",
   "id": "9ec06e81-bfe9-4c9c-bcd8-5ddabf8ac1c8",
   "metadata": {},
   "source": [
    "## 11 \n",
    "We will now try to predict per capita crime rate in the Boston dataset."
   ]
  },
  {
   "cell_type": "code",
   "execution_count": 44,
   "id": "5feeafbf-23e6-44e2-8b08-bc109af1a6e8",
   "metadata": {
    "tags": []
   },
   "outputs": [],
   "source": [
    "Boston = pd.read_csv('Boston.csv')"
   ]
  },
  {
   "cell_type": "code",
   "execution_count": 47,
   "id": "4fa8f2cd-6c50-49ac-89cd-d6917f765d68",
   "metadata": {
    "tags": []
   },
   "outputs": [],
   "source": [
    "x = Boston.iloc[:,2:]\n",
    "y = Boston['crim']"
   ]
  },
  {
   "cell_type": "code",
   "execution_count": 48,
   "id": "34ff138d-99a2-4d9c-a880-eaa3a7f88c10",
   "metadata": {
    "tags": []
   },
   "outputs": [],
   "source": [
    "np.random.seed(1)\n",
    "train = np.random.choice([True, False], size = len(y), replace = True)\n",
    "test  = np.invert(train)"
   ]
  },
  {
   "cell_type": "markdown",
   "id": "1394f703-e93a-421e-8f07-45a4e85ae524",
   "metadata": {},
   "source": [
    "## (a) Try out some of the regression methods explored in this chapter,such as best subset selection, the lasso, ridge regression, andPCR. Present and discuss results for the approaches that you consider"
   ]
  },
  {
   "cell_type": "markdown",
   "id": "17c91185-571d-45c0-8b64-697ecf066afb",
   "metadata": {},
   "source": [
    "Answer: \n",
    "- The Boston dataset is pretty small, so I’m going to use 10-repeated 10-fold cross-validation MSE to approximate the test error (instead of partitioning the data into train & test)."
   ]
  },
  {
   "cell_type": "code",
   "execution_count": 49,
   "id": "99c70c4d-c95b-4445-b186-b2a990952784",
   "metadata": {
    "tags": []
   },
   "outputs": [],
   "source": [
    "np.random.seed(2)\n",
    "folds = np.random.choice(10, size=len(y[train]), replace = True) # 10-fold CV"
   ]
  },
  {
   "cell_type": "code",
   "execution_count": 50,
   "id": "139d5d71-26af-436b-9747-4857278a0a74",
   "metadata": {
    "tags": []
   },
   "outputs": [],
   "source": [
    "cv_xi  = pd.DataFrame(columns=range(1,11), index=range(1,len(x.columns)+1))\n",
    "cv_err = pd.DataFrame(columns=range(1,11), index=range(1,len(x.columns)+1))"
   ]
  },
  {
   "cell_type": "code",
   "execution_count": 51,
   "id": "32c9b52c-6fd4-421f-ac98-9d897caa031c",
   "metadata": {
    "tags": []
   },
   "outputs": [],
   "source": [
    "for k in range(1, 11):    \n",
    "    \n",
    "    cv_ytest = y[train][folds == k-1]\n",
    "    cv_xtest = x[train][folds == k-1] \n",
    "    \n",
    "    cv_ytrain = y[train][folds != k-1]\n",
    "    cv_xtrain = x[train][folds != k-1] \n",
    "    \n",
    "    oldxs   = []\n",
    "    remainx = cv_xtrain\n",
    "    \n",
    "    for i in range(1, len(x.columns)+1):       \n",
    "        mse      = []\n",
    "        xcombo   = []\n",
    "        best_ssr = np.inf\n",
    "\n",
    "        for combo in itertools.combinations(remainx.columns, 1):\n",
    "            tempx1 = sm.add_constant(cv_xtrain[oldxs + list(combo)])\n",
    "            lm     = sm.OLS(cv_ytrain, tempx1).fit()\n",
    "            \n",
    "            if lm.ssr < best_ssr:\n",
    "                addx     = combo[0]\n",
    "                best_ssr = lm.ssr\n",
    "                tempx2   = sm.add_constant(cv_xtest[tempx1.columns[1:]])\n",
    "                test_mse = mean_squared_error(cv_ytest, lm.predict(tempx2))"
   ]
  },
  {
   "cell_type": "code",
   "execution_count": 52,
   "id": "2dd0b174-dd25-4cc7-b5cf-ec48859ba4f2",
   "metadata": {
    "tags": []
   },
   "outputs": [],
   "source": [
    "oldxs.append(addx)"
   ]
  },
  {
   "cell_type": "code",
   "execution_count": 60,
   "id": "87047ec6-d078-4d10-9d88-d3a380cc9a5a",
   "metadata": {
    "tags": []
   },
   "outputs": [],
   "source": [
    "remainx = cv_xtrain.drop(labels=list(oldxs), axis=1)  "
   ]
  },
  {
   "cell_type": "code",
   "execution_count": 61,
   "id": "8a655fad-6b87-44f2-a46a-6849e53b5528",
   "metadata": {
    "tags": []
   },
   "outputs": [],
   "source": [
    "cv_xi[k][i]  = oldxs.copy()\n",
    "cv_err[k][i] = test_mse"
   ]
  },
  {
   "cell_type": "code",
   "execution_count": 62,
   "id": "f0d0e7f5-9e15-4cf9-ac3c-e4dc2e106ec3",
   "metadata": {
    "tags": []
   },
   "outputs": [
    {
     "data": {
      "text/plain": [
       "<matplotlib.collections.PathCollection at 0x206a6f63a50>"
      ]
     },
     "execution_count": 62,
     "metadata": {},
     "output_type": "execute_result"
    },
    {
     "data": {
      "image/png": "[encoded data removed]",
      "text/plain": [
       "<Figure size 800x550 with 1 Axes>"
      ]
     },
     "metadata": {},
     "output_type": "display_data"
    }
   ],
   "source": [
    "cv_err_mean = cv_err.apply(np.mean, axis=1)\n",
    "plt.plot(cv_err_mean)\n",
    "plt.xlabel('# of features')\n",
    "plt.ylabel('CV MSE')\n",
    "plt.scatter(cv_err_mean.argmin(), cv_err_mean.min(), s=100, c='r')"
   ]
  },
  {
   "cell_type": "code",
   "execution_count": 66,
   "id": "2506b1c3-c62e-419d-8b13-e277ff0ff9f1",
   "metadata": {
    "tags": []
   },
   "outputs": [
    {
     "name": "stdout",
     "output_type": "stream",
     "text": [
      "33.261564782773924\n",
      "rad        0.489001\n",
      "medv       0.110911\n",
      "indus      0.037110\n",
      "black      0.015483\n",
      "age        0.012979\n",
      "tax        0.000773\n",
      "chas       0.000000\n",
      "nox        0.000000\n",
      "rm         0.000000\n",
      "dis        0.000000\n",
      "ptratio    0.000000\n",
      "lstat      0.000000\n",
      "dtype: float64\n",
      "# of non-zero coef estimates: 6\n"
     ]
    }
   ],
   "source": [
    "# LASSO\n",
    "lassocv    = LassoCV(cv=10).fit(x[train], y[train]) # 10-fold CV\n",
    "lasso_pred = lassocv.predict(x[test])\n",
    "lasso_err  = mean_squared_error(y[test], lasso_pred) \n",
    "lasso_coef = pd.Series(lassocv.coef_, index = x[train].columns)\n",
    "print(lasso_err)\n",
    "print(lasso_coef.abs().sort_values(ascending=False))\n",
    "print('# of non-zero coef estimates: %i' %lasso_coef[lasso_coef != 0].count())"
   ]
  },
  {
   "cell_type": "code",
   "execution_count": 70,
   "id": "2d0c6afb-3051-45b1-b214-b1525dea1a58",
   "metadata": {
    "tags": []
   },
   "outputs": [
    {
     "name": "stdout",
     "output_type": "stream",
     "text": [
      "32.4687208159841\n",
      "rad        0.505196\n",
      "dis        0.403210\n",
      "rm         0.324401\n",
      "medv       0.160016\n",
      "ptratio    0.145706\n",
      "indus      0.134850\n",
      "chas       0.099360\n",
      "nox        0.070133\n",
      "lstat      0.019964\n",
      "black      0.014499\n",
      "age        0.000479\n",
      "tax        0.000055\n",
      "dtype: float64\n"
     ]
    }
   ],
   "source": [
    "# Ridge\n",
    "alphas     = 10**np.linspace(10,-2,100)*0.5\n",
    "ridgecv    = RidgeCV(alphas=alphas, cv=10).fit(x[train], y[train]) # 10-fold CV\n",
    "ridge_pred = ridgecv.predict(x[test])\n",
    "ridge_err  = mean_squared_error(y[test], ridge_pred)\n",
    "ridge_coef = pd.Series(ridgecv.coef_, index = x[train].columns)\n",
    "print(ridge_err)\n",
    "print(ridge_coef.abs().sort_values(ascending=False))"
   ]
  },
  {
   "cell_type": "code",
   "execution_count": 71,
   "id": "7ad09f72-9bfd-446a-8204-7dee18b71c15",
   "metadata": {
    "tags": []
   },
   "outputs": [
    {
     "data": {
      "text/plain": [
       "array([ 49.28,  62.42,  71.42,  78.98,  85.67,  89.88,  93.02,  95.32,\n",
       "        96.94,  98.49,  99.53, 100.  ])"
      ]
     },
     "execution_count": 71,
     "metadata": {},
     "output_type": "execute_result"
    }
   ],
   "source": [
    "# PCR\n",
    "# scale data\n",
    "pca = PCA()\n",
    "reduced_xtrain = pca.fit_transform(scale(x[train]))\n",
    "# amount of variance explained by adding each principal component\n",
    "np.cumsum(np.round(pca.explained_variance_ratio_, decimals=4)*100)"
   ]
  },
  {
   "cell_type": "code",
   "execution_count": 72,
   "id": "f9d0390f-c4ff-4bdc-bf5a-97ac7e769433",
   "metadata": {
    "tags": []
   },
   "outputs": [],
   "source": [
    "# LOOCV with shuffle\n",
    "ntrain = len(reduced_xtrain)\n",
    "kf10   = KFold(n_splits=10, shuffle=True, random_state=1)"
   ]
  },
  {
   "cell_type": "code",
   "execution_count": 73,
   "id": "06218c6a-8c34-4244-b761-4b277f706d1d",
   "metadata": {
    "tags": []
   },
   "outputs": [
    {
     "name": "stdout",
     "output_type": "stream",
     "text": [
      "M = 12\n"
     ]
    },
    {
     "data": {
      "image/png": "[encoded data removed]",
      "text/plain": [
       "<Figure size 800x550 with 1 Axes>"
      ]
     },
     "metadata": {},
     "output_type": "display_data"
    }
   ],
   "source": [
    "# pick M based on MSE\n",
    "pcr    = LinearRegression()\n",
    "mse    = []\n",
    "# compute MSE with only intercept (no principal components)\n",
    "score = -1*cross_val_score(pcr, np.ones((ntrain,1)), y[train].ravel(), cv=kf10, scoring='neg_mean_squared_error').mean()    \n",
    "mse.append(score)\n",
    "# compute MSE with the 13 principle components, adding one at a time\n",
    "for i in np.arange(1,14):\n",
    "    score = -1*cross_val_score(pcr, reduced_xtrain[:,:i], y[train].ravel(), cv=kf10, scoring='neg_mean_squared_error').mean()\n",
    "    mse.append(score)\n",
    "# plot MSE against # of components\n",
    "plt.plot(mse, '-o')\n",
    "plt.xlabel('# of principal components')\n",
    "plt.ylabel('MSE')\n",
    "# select M\n",
    "M = mse.index(min(mse)) # index is 0 for intercept-only MSE\n",
    "print('M = %i' %M) #12"
   ]
  },
  {
   "cell_type": "code",
   "execution_count": 75,
   "id": "c754bb87-b4cc-4a5b-85d7-bd90cae61c31",
   "metadata": {
    "tags": []
   },
   "outputs": [
    {
     "name": "stdout",
     "output_type": "stream",
     "text": [
      "32.99560193842984\n"
     ]
    }
   ],
   "source": [
    "# predict using M and test data\n",
    "reduced_xtest = pca.transform(scale(x[test]))[:,:M+1]\n",
    "pcr.fit(reduced_xtrain[:,:M+1], y[train])\n",
    "pcr_pred = pcr.predict(reduced_xtest)\n",
    "pcr_err  = mean_squared_error(y[test], pcr_pred) \n",
    "print(pcr_err)"
   ]
  },
  {
   "cell_type": "markdown",
   "id": "4aa8ea27-549a-4d4e-8a81-ed7076e80529",
   "metadata": {},
   "source": [
    "## (b) Propose a model (or set of models) that seem to perform well onthis data set, and justify your answer. Make sure that you are evaluating model performance using validation set error, cross-Validation, or some other reasonable alternative, as opposed tousing training error."
   ]
  },
  {
   "cell_type": "code",
   "execution_count": 79,
   "id": "e7f326bc-4b9a-4014-a75f-780543d74031",
   "metadata": {
    "tags": []
   },
   "outputs": [
    {
     "name": "stdout",
     "output_type": "stream",
     "text": [
      "             errors\n",
      "fwd    1.425056e+06\n",
      "ridge  3.246872e+01\n",
      "lasso  3.326156e+01\n",
      "pcr    3.299560e+01\n"
     ]
    },
    {
     "data": {
      "text/plain": [
       "Text(0, 0.5, 'test MSE')"
      ]
     },
     "execution_count": 79,
     "metadata": {},
     "output_type": "execute_result"
    },
    {
     "data": {
      "image/png": "[encoded data removed]",
      "text/plain": [
       "<Figure size 800x550 with 1 Axes>"
      ]
     },
     "metadata": {},
     "output_type": "display_data"
    }
   ],
   "source": [
    "err = pd.DataFrame({'errors': [lm_err, ridge_err, lasso_err, pcr_err]})\n",
    "err.rename(index={0:'fwd', 1:'ridge', 2:'lasso', 3:'pcr'}, inplace=True) \n",
    "print(err)\n",
    "\n",
    "x_label = np.arange(4)\n",
    "plt.bar(x_label, err.errors)\n",
    "plt.xticks(x_label, ('fwd', 'ridge', 'lasso', 'pcr'))\n",
    "plt.ylabel('test MSE')"
   ]
  },
  {
   "cell_type": "markdown",
   "id": "98359b22-b573-4fe9-bd85-f2a9e5ffa24c",
   "metadata": {},
   "source": [
    "- The best performing model with regards to cross-validation MSE was ridge and subset forward performed the worst. "
   ]
  },
  {
   "cell_type": "markdown",
   "id": "54daa3e8-fe5a-493e-afdd-27a88c3038e0",
   "metadata": {},
   "source": [
    "## (c) Does your chosen model involve all of the features in the dataset? Why or why not?"
   ]
  },
  {
   "cell_type": "markdown",
   "id": "134d271a-78ca-4ec6-bec7-ebf4cee00ace",
   "metadata": {},
   "source": [
    "- No, my chosen model does not involve all the features in the dataset because it would barely improve our prediction accuracy. "
   ]
  }
 ],
 "metadata": {
  "kernelspec": {
   "display_name": "Python 3 (ipykernel)",
   "language": "python",
   "name": "python3"
  },
  "language_info": {
   "codemirror_mode": {
    "name": "ipython",
    "version": 3
   },
   "file_extension": ".py",
   "mimetype": "text/x-python",
   "name": "python",
   "nbconvert_exporter": "python",
   "pygments_lexer": "ipython3",
   "version": "3.11.4"
  }
 },
 "nbformat": 4,
 "nbformat_minor": 5
}
