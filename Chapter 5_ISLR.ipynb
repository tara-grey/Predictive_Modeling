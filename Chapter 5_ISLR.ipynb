{
 "cells": [
  {
   "cell_type": "markdown",
   "id": "d9a1ac77-7dd8-41e4-8e6b-f6994e9b4f47",
   "metadata": {},
   "source": [
    "## 3 \n",
    "We now review k-fold cross-validation."
   ]
  },
  {
   "cell_type": "markdown",
   "id": "5b8bd3bd-4c76-4696-9f9b-48104fdec065",
   "metadata": {},
   "source": [
    "## (a)  Explain how k-fold cross-validation is implemented."
   ]
  },
  {
   "cell_type": "markdown",
   "id": "aa25d53a-3caa-480b-8e1c-dd546083f5c8",
   "metadata": {},
   "source": [
    "- k-fold cross validation is implemented by taking a training set of size n and partitioning it into k non-overlapping equal parts. If k does not get divided into n evenly then we split the k fold as equal as we can. Then the model is fit k number of times, each time leaving out a different fold as a validation set. For each of the k model fits, the left-out folds are used to calucate the validation error. The the average of the k validation errors is use to be an estimate of the test error."
   ]
  },
  {
   "cell_type": "markdown",
   "id": "97fca9e6-6626-464a-9a69-8355cd78e34b",
   "metadata": {},
   "source": [
    "## (b) What are the advantages and disadvantages of k-fold cross- validation relative to:\n",
    "\n",
    "(i) The validation set approach?\n",
    "- Requires less computation and is simplet adn easier to implement. On the other hand, the validation set approach tents to oversestimate the test error becasue it only uses half of the sample to fit the model. \n",
    "\n",
    "(ii) LOOCV?\n",
    "- Leave-one-out cross-validation (LOOCV) exhibits lower bias compared to k-fold cross-validation as it utilizes nearly all data points, minimizing bias. However, this comes at the expense of increased variance in LOOCV due to highly correlated validation errors, resulting from models differing by only two points. In contrast, k-fold cross-validation, especially with k=5 or k=10, reduces this correlation significantly, sharing only about 60-80% of points between pairs of fits. Moreover, k-fold cross-validation is computationally less intensive, requiring only k model fits instead of n fits in LOOCV, except in cases like least squares linear or polynomial regression where LOOCV matches the computational load of a single model fit ("
   ]
  },
  {
   "cell_type": "markdown",
   "id": "045f5f4e-2708-4247-a485-e437d20de2df",
   "metadata": {
    "tags": []
   },
   "source": [
    "## 5\n",
    "In Chapter 4, we used logistic regression to predict the probability of\n",
    "default using income and balance on the Default data set. We will\n",
    "now estimate the test error of this logistic regression model using the\n",
    "validation set approach. Do not forget to set a random seed before\n",
    "beginning your analysis."
   ]
  },
  {
   "cell_type": "code",
   "execution_count": 28,
   "id": "8836df6a-8320-463b-804d-2c04075a7aca",
   "metadata": {
    "tags": []
   },
   "outputs": [],
   "source": [
    "import pandas as pd\n",
    "import numpy as np\n",
    "import patsy\n",
    "import seaborn as sns\n",
    "import matplotlib.pyplot as plt\n",
    "\n",
    "import statsmodels.formula.api as smf\n",
    "from sklearn.model_selection import train_test_split\n",
    "from sklearn.linear_model import LogisticRegression, LinearRegression\n",
    "from sklearn.model_selection import train_test_split, cross_val_score, LeaveOneOut, KFold\n",
    "from sklearn.preprocessing import OneHotEncoder, PolynomialFeatures\n",
    "from sklearn.pipeline import Pipeline\n",
    "from sklearn.compose import ColumnTransformer\n",
    "from sklearn.utils import resample\n",
    "from scipy import stats\n",
    "\n",
    "import statsmodels.api as sm\n",
    "import statsmodels.formula.api as smf\n",
    "\n",
    "sns.set(style=\"white\")\n",
    "%matplotlib inline"
   ]
  },
  {
   "cell_type": "markdown",
   "id": "07e6ec13-85d0-41ab-b6cc-4db621ef786b",
   "metadata": {},
   "source": [
    "(a) Fit a logistic regression model that uses income and balance to\n",
    "predict default."
   ]
  },
  {
   "cell_type": "code",
   "execution_count": 9,
   "id": "7e64291c-7588-45a6-9565-c7912d9c298a",
   "metadata": {
    "tags": []
   },
   "outputs": [
    {
     "data": {
      "text/html": [
       "<div>\n",
       "<style scoped>\n",
       "    .dataframe tbody tr th:only-of-type {\n",
       "        vertical-align: middle;\n",
       "    }\n",
       "\n",
       "    .dataframe tbody tr th {\n",
       "        vertical-align: top;\n",
       "    }\n",
       "\n",
       "    .dataframe thead th {\n",
       "        text-align: right;\n",
       "    }\n",
       "</style>\n",
       "<table border=\"1\" class=\"dataframe\">\n",
       "  <thead>\n",
       "    <tr style=\"text-align: right;\">\n",
       "      <th></th>\n",
       "      <th>default</th>\n",
       "      <th>student</th>\n",
       "      <th>balance</th>\n",
       "      <th>income</th>\n",
       "      <th>default_yes</th>\n",
       "    </tr>\n",
       "  </thead>\n",
       "  <tbody>\n",
       "    <tr>\n",
       "      <th>1</th>\n",
       "      <td>No</td>\n",
       "      <td>No</td>\n",
       "      <td>729.526495</td>\n",
       "      <td>44361.625074</td>\n",
       "      <td>0</td>\n",
       "    </tr>\n",
       "    <tr>\n",
       "      <th>2</th>\n",
       "      <td>No</td>\n",
       "      <td>Yes</td>\n",
       "      <td>817.180407</td>\n",
       "      <td>12106.134700</td>\n",
       "      <td>0</td>\n",
       "    </tr>\n",
       "    <tr>\n",
       "      <th>3</th>\n",
       "      <td>No</td>\n",
       "      <td>No</td>\n",
       "      <td>1073.549164</td>\n",
       "      <td>31767.138947</td>\n",
       "      <td>0</td>\n",
       "    </tr>\n",
       "    <tr>\n",
       "      <th>4</th>\n",
       "      <td>No</td>\n",
       "      <td>No</td>\n",
       "      <td>529.250605</td>\n",
       "      <td>35704.493935</td>\n",
       "      <td>0</td>\n",
       "    </tr>\n",
       "    <tr>\n",
       "      <th>5</th>\n",
       "      <td>No</td>\n",
       "      <td>No</td>\n",
       "      <td>785.655883</td>\n",
       "      <td>38463.495879</td>\n",
       "      <td>0</td>\n",
       "    </tr>\n",
       "  </tbody>\n",
       "</table>\n",
       "</div>"
      ],
      "text/plain": [
       "  default student      balance        income  default_yes\n",
       "1      No      No   729.526495  44361.625074            0\n",
       "2      No     Yes   817.180407  12106.134700            0\n",
       "3      No      No  1073.549164  31767.138947            0\n",
       "4      No      No   529.250605  35704.493935            0\n",
       "5      No      No   785.655883  38463.495879            0"
      ]
     },
     "execution_count": 9,
     "metadata": {},
     "output_type": "execute_result"
    }
   ],
   "source": [
    "np.random.seed(1)\n",
    "\n",
    "df = pd.read_csv(\"https://raw.githubusercontent.com/jasonm/islr-exercises/master/Data/Default.csv\", index_col=0)\n",
    "\n",
    "df['default_yes'] = (df['default'] == 'Yes').astype('int')\n",
    "df.head()"
   ]
  },
  {
   "cell_type": "code",
   "execution_count": 3,
   "id": "5e7a7573-d10d-4eec-b4ba-88abb701b8f6",
   "metadata": {
    "tags": []
   },
   "outputs": [
    {
     "name": "stderr",
     "output_type": "stream",
     "text": [
      "C:\\Users\\Tara Grey\\Python\\Lib\\site-packages\\sklearn\\linear_model\\_logistic.py:1182: FutureWarning: `penalty='none'`has been deprecated in 1.2 and will be removed in 1.4. To keep the past behaviour, set `penalty=None`.\n",
      "  warnings.warn(\n"
     ]
    },
    {
     "data": {
      "text/plain": [
       "array([[5.64710291e-03, 2.08089921e-05]])"
      ]
     },
     "execution_count": 3,
     "metadata": {},
     "output_type": "execute_result"
    }
   ],
   "source": [
    "X = df[['balance', 'income']]\n",
    "y = df['default']\n",
    "clf = LogisticRegression(penalty = \"none\", solver = \"lbfgs\")\n",
    "clf.fit(X, y)\n",
    "clf.coef_"
   ]
  },
  {
   "cell_type": "markdown",
   "id": "12ff8653-a4b6-412e-af5c-a8ab0b96c1ef",
   "metadata": {},
   "source": [
    "(b) Using the validation set approach, estimate the test error of this\n",
    "model. In order to do this, you must perform the following steps:"
   ]
  },
  {
   "cell_type": "markdown",
   "id": "4de1db6c-361c-4ce5-bd4f-41f32e5003e1",
   "metadata": {},
   "source": [
    "i. Split the sample set into a training set and a validation set.\n",
    "\n",
    "ii. Fit a multiple logistic regression model using only the train-\n",
    "ing observations.\n",
    "\n",
    "iii. Obtain a prediction of default status for each individual in\n",
    "the validation set by computing the posterior probability of\n",
    "default for that individual, and classifying the individual to\n",
    "the default category if the posterior probability is greater\n",
    "than 0.5.\n",
    "\n",
    "iv. Compute the validation set error, which is the fraction of\n",
    "the observations in the validation set that are misclassified."
   ]
  },
  {
   "cell_type": "code",
   "execution_count": 8,
   "id": "3961ef68-8156-4d7b-a6ae-e63bc2fe7fb8",
   "metadata": {
    "tags": []
   },
   "outputs": [
    {
     "name": "stderr",
     "output_type": "stream",
     "text": [
      "C:\\Users\\Tara Grey\\Python\\Lib\\site-packages\\sklearn\\linear_model\\_logistic.py:1182: FutureWarning: `penalty='none'`has been deprecated in 1.2 and will be removed in 1.4. To keep the past behaviour, set `penalty=None`.\n",
      "  warnings.warn(\n"
     ]
    },
    {
     "data": {
      "text/plain": [
       "0.02839999999999998"
      ]
     },
     "execution_count": 8,
     "metadata": {},
     "output_type": "execute_result"
    }
   ],
   "source": [
    "X_train, X_test, y_train, y_test = train_test_split(df[[\"balance\", \"income\"]], df[\"default\"],\n",
    "                                                   test_size = 0.25, random_state = 312)\n",
    "clf = LogisticRegression(penalty = \"none\", solver = \"lbfgs\")\n",
    "clf.fit(X_train, y_train)\n",
    "1 - clf.score(X_test, y_test)"
   ]
  },
  {
   "cell_type": "markdown",
   "id": "526c14d2-99db-4543-a2bb-e52ba727306f",
   "metadata": {
    "tags": []
   },
   "source": [
    "(c) Repeat the process in (b) three times, using three different splits\n",
    "of the observations into a training set and a validation set. Com-\n",
    "ment on the results obtained."
   ]
  },
  {
   "cell_type": "code",
   "execution_count": 9,
   "id": "2c135c1e-4aba-4ce4-85c3-4c270f5d1682",
   "metadata": {
    "tags": []
   },
   "outputs": [
    {
     "name": "stderr",
     "output_type": "stream",
     "text": [
      "C:\\Users\\Tara Grey\\Python\\Lib\\site-packages\\sklearn\\linear_model\\_logistic.py:1182: FutureWarning: `penalty='none'`has been deprecated in 1.2 and will be removed in 1.4. To keep the past behaviour, set `penalty=None`.\n",
      "  warnings.warn(\n"
     ]
    },
    {
     "data": {
      "text/plain": [
       "0.03200000000000003"
      ]
     },
     "execution_count": 9,
     "metadata": {},
     "output_type": "execute_result"
    }
   ],
   "source": [
    "X_train, X_test, y_train, y_test = train_test_split(df[[\"balance\", \"income\"]], df[\"default\"],\n",
    "                                                   test_size = 0.25, random_state = 456)\n",
    "clf = LogisticRegression(penalty = \"none\", solver = \"lbfgs\")\n",
    "clf.fit(X_train, y_train)\n",
    "1 - clf.score(X_test, y_test)"
   ]
  },
  {
   "cell_type": "code",
   "execution_count": 10,
   "id": "e9883c69-d65d-4e38-8e0a-0bfbdf2a182b",
   "metadata": {
    "tags": []
   },
   "outputs": [
    {
     "name": "stderr",
     "output_type": "stream",
     "text": [
      "C:\\Users\\Tara Grey\\Python\\Lib\\site-packages\\sklearn\\linear_model\\_logistic.py:1182: FutureWarning: `penalty='none'`has been deprecated in 1.2 and will be removed in 1.4. To keep the past behaviour, set `penalty=None`.\n",
      "  warnings.warn(\n"
     ]
    },
    {
     "data": {
      "text/plain": [
       "0.034399999999999986"
      ]
     },
     "execution_count": 10,
     "metadata": {},
     "output_type": "execute_result"
    }
   ],
   "source": [
    "X_train, X_test, y_train, y_test = train_test_split(df[[\"balance\", \"income\"]], df[\"default\"],\n",
    "                                                   test_size = 0.25, random_state = 789)\n",
    "clf = LogisticRegression(penalty = \"none\", solver = \"lbfgs\")\n",
    "clf.fit(X_train, y_train)\n",
    "1 - clf.score(X_test, y_test)"
   ]
  },
  {
   "cell_type": "code",
   "execution_count": 11,
   "id": "3bc53eb9-00dd-4e75-b3a9-88b5294f3e6b",
   "metadata": {
    "tags": []
   },
   "outputs": [
    {
     "name": "stderr",
     "output_type": "stream",
     "text": [
      "C:\\Users\\Tara Grey\\Python\\Lib\\site-packages\\sklearn\\linear_model\\_logistic.py:1182: FutureWarning: `penalty='none'`has been deprecated in 1.2 and will be removed in 1.4. To keep the past behaviour, set `penalty=None`.\n",
      "  warnings.warn(\n"
     ]
    },
    {
     "data": {
      "text/plain": [
       "0.031200000000000006"
      ]
     },
     "execution_count": 11,
     "metadata": {},
     "output_type": "execute_result"
    }
   ],
   "source": [
    "X_train, X_test, y_train, y_test = train_test_split(df[[\"balance\", \"income\"]], df[\"default\"],\n",
    "                                                   test_size = 0.25, random_state = 314159)\n",
    "clf = LogisticRegression(penalty = \"none\", solver = \"lbfgs\")\n",
    "clf.fit(X_train, y_train)\n",
    "1 - clf.score(X_test, y_test)"
   ]
  },
  {
   "cell_type": "code",
   "execution_count": 12,
   "id": "dc56a887-0499-4e69-9075-88e972bb5f80",
   "metadata": {
    "tags": []
   },
   "outputs": [
    {
     "data": {
      "text/plain": [
       "0.0333"
      ]
     },
     "execution_count": 12,
     "metadata": {},
     "output_type": "execute_result"
    }
   ],
   "source": [
    "(df[\"default\"] != \"No\").mean()"
   ]
  },
  {
   "cell_type": "markdown",
   "id": "a6383b55-e1ef-4478-bcfb-697bedea7b24",
   "metadata": {
    "tags": []
   },
   "source": [
    "## Comment\n",
    "\n",
    "- Across three distinct 75-25 data splits, our validation set error demonstrated remarkable consistency. The average error, in comparison to Part 2, stood at 0.0315, with errors falling within approximately 20% of each other. It's noteworthy that these test errors closely align with the error obtained by adopting a naive strategy of predicting no defaults. The average test error is merely 5% lower than the error associated with the naive approach"
   ]
  },
  {
   "cell_type": "markdown",
   "id": "3bcc9fa1-2a57-46db-a7a9-0a5055f78cbb",
   "metadata": {},
   "source": [
    "(d) Now consider a logistic regression model that predicts the prob-\n",
    "ability of default using income, balance, and a dummy variable\n",
    "for student. Estimate the test error for this model using the val-\n",
    "idation set approach. Comment on whether or not including a\n",
    "dummy variable for student leads to a reduction in the test error\n",
    "rate"
   ]
  },
  {
   "cell_type": "code",
   "execution_count": 13,
   "id": "e5077aea-f43b-4af5-8af2-79ce4de213ec",
   "metadata": {
    "tags": []
   },
   "outputs": [
    {
     "data": {
      "text/plain": [
       "0.003000000000000016"
      ]
     },
     "execution_count": 13,
     "metadata": {},
     "output_type": "execute_result"
    }
   ],
   "source": [
    "import warnings\n",
    "warnings.filterwarnings(\"ignore\", category=FutureWarning)\n",
    "\n",
    "np.random.seed(24)\n",
    "with_student = {}\n",
    "without_student = {}\n",
    "\n",
    "categorical_features = [\"student\"]\n",
    "categorical_transformer = Pipeline([(\"onehot\", OneHotEncoder(drop = \"first\"))])\n",
    "numerical_features = [\"income\", \"balance\"]\n",
    "with_student_preprocessor = ColumnTransformer([(\"cat\", categorical_transformer, categorical_features),\n",
    "                                 (\"num\", \"passthrough\", numerical_features)])\n",
    "with_student_clf = Pipeline([(\"preprocessor\", with_student_preprocessor), \n",
    "                (\"classifier\", LogisticRegression(penalty = \"none\", solver = \"lbfgs\"))])\n",
    "without_student_preprocessor = ColumnTransformer([(\"num\", \"passthrough\", numerical_features)])\n",
    "without_student_clf = Pipeline([(\"preprocessor\", without_student_preprocessor), \n",
    "                (\"classifier\", LogisticRegression(penalty = \"none\", solver = \"lbfgs\"))])\n",
    "\n",
    "# Loop through 50 train-test splits to compute average difference in error rate\n",
    "for i in range(50):\n",
    "    # Split the data in to training and test sets\n",
    "    X_train, X_test, y_train, y_test = train_test_split(df, df[\"default\"], test_size = 0.25)\n",
    "    # Fit classifier which includes student variable and compute validation set error\n",
    "    with_student_clf.fit(X_train, y_train)\n",
    "    with_student[i] = 1 - with_student_clf.score(X_test, y_test)\n",
    "    # Fit classifier which excludes student variable and compute validation set error\n",
    "    without_student_clf.fit(X_train, y_train)\n",
    "    without_student[i] = 1 - without_student_clf.score(X_test, y_test)\n",
    "errors = pd.DataFrame({\"with_student\": with_student, \"without_student\": without_student})\n",
    "errors[\"difference\"] = errors[\"with_student\"] - errors[\"without_student\"]\n",
    "errors[\"difference\"].mean()"
   ]
  },
  {
   "cell_type": "markdown",
   "id": "dd22cf9c-716a-4472-8b44-194342422746",
   "metadata": {},
   "source": [
    "## Comment: \n",
    "- Looping through the 50 train-test splits adn comparing the error rates between the logistic regression model that's predicting defult using income, balance and student adn the logistic regression model that's predicting defualt without student for each split, it can be seen that including the dummy variable for student did not lead to any reduction in the test error rate. In fact, it resulted in a slight increase in the test error rate. "
   ]
  },
  {
   "cell_type": "markdown",
   "id": "9cf44ef4-0cea-49b4-847d-9397a1f1ffa8",
   "metadata": {
    "tags": []
   },
   "source": [
    "## 6\n",
    "We continue to consider the use of a logistic regression model to\n",
    "predict the probability of default using income and balance on the\n",
    "Default data set. In particular, we will now compute estimates for the\n",
    "standard errors of the income and balance logistic regression coeffi-\n",
    "cients in two different ways: (1) using the bootstrap, and (2) using the\n",
    "standard formula for computing the standard errors in the sm.GLM()\n",
    "function. Do not forget to set a random seed before beginning your\n",
    "analysis"
   ]
  },
  {
   "cell_type": "markdown",
   "id": "d2ce5222-43bb-44e5-ae88-1e03ffcfd7a0",
   "metadata": {},
   "source": [
    "(a) Using the summarize() and sm.GLM() functions, determine the\n",
    "estimated standard errors for the coefficients associated with\n",
    "income and balance in a multiple logistic regression model that\n",
    "uses both predictors"
   ]
  },
  {
   "cell_type": "code",
   "execution_count": 12,
   "id": "a7cd6350-01d4-4363-945c-9304957a5e05",
   "metadata": {
    "tags": []
   },
   "outputs": [],
   "source": [
    "Default = pd.read_csv(\"https://raw.githubusercontent.com/jasonm/islr-exercises/master/Data/Default.csv\", index_col=0)\n"
   ]
  },
  {
   "cell_type": "code",
   "execution_count": 13,
   "id": "a5409290-0c4c-44c4-af6a-e1aa16258111",
   "metadata": {
    "tags": []
   },
   "outputs": [
    {
     "name": "stdout",
     "output_type": "stream",
     "text": [
      "Optimization terminated successfully.\n",
      "         Current function value: 0.145834\n",
      "         Iterations 7\n",
      "const     0.146257\n",
      "income    0.000004\n",
      "dtype: float64\n"
     ]
    }
   ],
   "source": [
    "np.random.seed(1)\n",
    "x01  = sm.add_constant(Default.iloc[:, 3:5]) \n",
    "y01  = np.where(Default['default']=='No', 0, 1) \n",
    "glm1 = sm.Logit(y01, x01)\n",
    "print(glm1.fit().bse)"
   ]
  },
  {
   "cell_type": "markdown",
   "id": "88c121b3-ad5a-4ced-ba7e-e6f8fb364e04",
   "metadata": {},
   "source": [
    "(b) Write a function, boot_fn() , that takes as input the Default data\n",
    "set as well as an index of the observations, and that outputs\n",
    "the coefficient estimates for income and balance in the multiple\n",
    "logistic regression model"
   ]
  },
  {
   "cell_type": "code",
   "execution_count": 15,
   "id": "d77dbd94-41e8-40a3-8960-fcd1db382dc3",
   "metadata": {
    "tags": []
   },
   "outputs": [
    {
     "name": "stdout",
     "output_type": "stream",
     "text": [
      "Optimization terminated successfully.\n",
      "         Current function value: 0.145834\n",
      "         Iterations 7\n"
     ]
    },
    {
     "data": {
      "text/plain": [
       "const    -3.094149\n",
       "income   -0.000008\n",
       "dtype: float64"
      ]
     },
     "execution_count": 15,
     "metadata": {},
     "output_type": "execute_result"
    }
   ],
   "source": [
    "def coef(x,y):\n",
    "  glm = sm.Logit(y, x)  \n",
    "  return glm.fit().params\n",
    "coef(x01,y01)"
   ]
  },
  {
   "cell_type": "markdown",
   "id": "324a50af-b1d2-4f8c-b4de-512a677a3978",
   "metadata": {},
   "source": [
    "(c) Following the bootstrap example in the lab, use your boot_fn()\n",
    "function to estimate the standard errors of the logistic regression\n",
    "coefficients for income and balance"
   ]
  },
  {
   "cell_type": "code",
   "execution_count": 16,
   "id": "25807edc-977d-46bb-b277-560aad8b42d8",
   "metadata": {
    "tags": []
   },
   "outputs": [
    {
     "name": "stdout",
     "output_type": "stream",
     "text": [
      "Optimization terminated successfully.\n",
      "         Current function value: 0.145473\n",
      "         Iterations 7\n",
      "Optimization terminated successfully.\n",
      "         Current function value: 0.145473\n",
      "         Iterations 7\n"
     ]
    },
    {
     "ename": "IndexError",
     "evalue": "index 2 is out of bounds for axis 0 with size 2",
     "output_type": "error",
     "traceback": [
      "\u001b[1;31m---------------------------------------------------------------------------\u001b[0m",
      "\u001b[1;31mIndexError\u001b[0m                                Traceback (most recent call last)",
      "Cell \u001b[1;32mIn[16], line 16\u001b[0m\n\u001b[0;32m     13\u001b[0m     res2 \u001b[38;5;241m=\u001b[39m np\u001b[38;5;241m.\u001b[39mstd(x2)\n\u001b[0;32m     14\u001b[0m     \u001b[38;5;28mprint\u001b[39m(\u001b[38;5;124m'\u001b[39m\u001b[38;5;124mbalance se: \u001b[39m\u001b[38;5;132;01m%.8f\u001b[39;00m\u001b[38;5;124m; income se: \u001b[39m\u001b[38;5;132;01m%.8f\u001b[39;00m\u001b[38;5;124m'\u001b[39m \u001b[38;5;241m%\u001b[39m(res1, res2))\n\u001b[1;32m---> 16\u001b[0m boot(Default, \u001b[38;5;241m50\u001b[39m)\n",
      "Cell \u001b[1;32mIn[16], line 10\u001b[0m, in \u001b[0;36mboot\u001b[1;34m(data, n)\u001b[0m\n\u001b[0;32m      8\u001b[0m     y     \u001b[38;5;241m=\u001b[39m np\u001b[38;5;241m.\u001b[39mwhere(df[\u001b[38;5;124m'\u001b[39m\u001b[38;5;124mdefault\u001b[39m\u001b[38;5;124m'\u001b[39m]\u001b[38;5;241m==\u001b[39m\u001b[38;5;124m'\u001b[39m\u001b[38;5;124mNo\u001b[39m\u001b[38;5;124m'\u001b[39m, \u001b[38;5;241m0\u001b[39m, \u001b[38;5;241m1\u001b[39m) \n\u001b[0;32m      9\u001b[0m     x1[i] \u001b[38;5;241m=\u001b[39m coef(x,y)[\u001b[38;5;241m1\u001b[39m] \n\u001b[1;32m---> 10\u001b[0m     x2[i] \u001b[38;5;241m=\u001b[39m coef(x,y)[\u001b[38;5;241m2\u001b[39m]\n\u001b[0;32m     12\u001b[0m res1 \u001b[38;5;241m=\u001b[39m np\u001b[38;5;241m.\u001b[39mstd(x1)\n\u001b[0;32m     13\u001b[0m res2 \u001b[38;5;241m=\u001b[39m np\u001b[38;5;241m.\u001b[39mstd(x2)\n",
      "File \u001b[1;32m~\\Python\\Lib\\site-packages\\pandas\\core\\series.py:978\u001b[0m, in \u001b[0;36mSeries.__getitem__\u001b[1;34m(self, key)\u001b[0m\n\u001b[0;32m    975\u001b[0m     key \u001b[38;5;241m=\u001b[39m unpack_1tuple(key)\n\u001b[0;32m    977\u001b[0m \u001b[38;5;28;01mif\u001b[39;00m is_integer(key) \u001b[38;5;129;01mand\u001b[39;00m \u001b[38;5;28mself\u001b[39m\u001b[38;5;241m.\u001b[39mindex\u001b[38;5;241m.\u001b[39m_should_fallback_to_positional:\n\u001b[1;32m--> 978\u001b[0m     \u001b[38;5;28;01mreturn\u001b[39;00m \u001b[38;5;28mself\u001b[39m\u001b[38;5;241m.\u001b[39m_values[key]\n\u001b[0;32m    980\u001b[0m \u001b[38;5;28;01melif\u001b[39;00m key_is_scalar:\n\u001b[0;32m    981\u001b[0m     \u001b[38;5;28;01mreturn\u001b[39;00m \u001b[38;5;28mself\u001b[39m\u001b[38;5;241m.\u001b[39m_get_value(key)\n",
      "\u001b[1;31mIndexError\u001b[0m: index 2 is out of bounds for axis 0 with size 2"
     ]
    }
   ],
   "source": [
    "def boot(data, n):\n",
    "    x1 = np.zeros(n)\n",
    "    x2 = np.zeros(n)\n",
    "    \n",
    "    for i in range(0, n):\n",
    "        df    = data.sample(frac=1, replace=True)\n",
    "        x     = sm.add_constant(df.iloc[:, 3:5])\n",
    "        y     = np.where(df['default']=='No', 0, 1) \n",
    "        x1[i] = coef(x,y)[1] \n",
    "        x2[i] = coef(x,y)[2]\n",
    "        \n",
    "    res1 = np.std(x1)\n",
    "    res2 = np.std(x2)\n",
    "    print('balance se: %.8f; income se: %.8f' %(res1, res2))\n",
    "    \n",
    "boot(Default, 50)\n"
   ]
  },
  {
   "cell_type": "markdown",
   "id": "95744633-b053-4c08-8f18-e182d8b942fa",
   "metadata": {},
   "source": [
    "(d) Comment on the estimated standard errors obtained using the\n",
    "sm.GLM() function and using the bootstrap\n"
   ]
  },
  {
   "cell_type": "markdown",
   "id": "356621c1-8bad-4842-97fe-45e5b76723e4",
   "metadata": {},
   "source": [
    "- Bootstrap Standard errors are close to the glm estimates"
   ]
  },
  {
   "cell_type": "markdown",
   "id": "9fcd0e46-35fb-4cd6-9116-2ce64af988f8",
   "metadata": {},
   "source": [
    "## 9  \n",
    "We will now consider the Boston housing data set, from the ISLP library"
   ]
  },
  {
   "cell_type": "code",
   "execution_count": 18,
   "id": "87d4e58d-9100-439e-8549-f003fe465c7e",
   "metadata": {
    "tags": []
   },
   "outputs": [
    {
     "data": {
      "text/html": [
       "<div>\n",
       "<style scoped>\n",
       "    .dataframe tbody tr th:only-of-type {\n",
       "        vertical-align: middle;\n",
       "    }\n",
       "\n",
       "    .dataframe tbody tr th {\n",
       "        vertical-align: top;\n",
       "    }\n",
       "\n",
       "    .dataframe thead th {\n",
       "        text-align: right;\n",
       "    }\n",
       "</style>\n",
       "<table border=\"1\" class=\"dataframe\">\n",
       "  <thead>\n",
       "    <tr style=\"text-align: right;\">\n",
       "      <th></th>\n",
       "      <th>crim</th>\n",
       "      <th>zn</th>\n",
       "      <th>indus</th>\n",
       "      <th>chas</th>\n",
       "      <th>nox</th>\n",
       "      <th>rm</th>\n",
       "      <th>age</th>\n",
       "      <th>dis</th>\n",
       "      <th>rad</th>\n",
       "      <th>tax</th>\n",
       "      <th>ptratio</th>\n",
       "      <th>black</th>\n",
       "      <th>lstat</th>\n",
       "      <th>medv</th>\n",
       "    </tr>\n",
       "  </thead>\n",
       "  <tbody>\n",
       "    <tr>\n",
       "      <th>0</th>\n",
       "      <td>0.00632</td>\n",
       "      <td>18.0</td>\n",
       "      <td>2.31</td>\n",
       "      <td>0</td>\n",
       "      <td>0.538</td>\n",
       "      <td>6.575</td>\n",
       "      <td>65.2</td>\n",
       "      <td>4.0900</td>\n",
       "      <td>1</td>\n",
       "      <td>296</td>\n",
       "      <td>15.3</td>\n",
       "      <td>396.90</td>\n",
       "      <td>4.98</td>\n",
       "      <td>24.0</td>\n",
       "    </tr>\n",
       "    <tr>\n",
       "      <th>1</th>\n",
       "      <td>0.02731</td>\n",
       "      <td>0.0</td>\n",
       "      <td>7.07</td>\n",
       "      <td>0</td>\n",
       "      <td>0.469</td>\n",
       "      <td>6.421</td>\n",
       "      <td>78.9</td>\n",
       "      <td>4.9671</td>\n",
       "      <td>2</td>\n",
       "      <td>242</td>\n",
       "      <td>17.8</td>\n",
       "      <td>396.90</td>\n",
       "      <td>9.14</td>\n",
       "      <td>21.6</td>\n",
       "    </tr>\n",
       "    <tr>\n",
       "      <th>2</th>\n",
       "      <td>0.02729</td>\n",
       "      <td>0.0</td>\n",
       "      <td>7.07</td>\n",
       "      <td>0</td>\n",
       "      <td>0.469</td>\n",
       "      <td>7.185</td>\n",
       "      <td>61.1</td>\n",
       "      <td>4.9671</td>\n",
       "      <td>2</td>\n",
       "      <td>242</td>\n",
       "      <td>17.8</td>\n",
       "      <td>392.83</td>\n",
       "      <td>4.03</td>\n",
       "      <td>34.7</td>\n",
       "    </tr>\n",
       "    <tr>\n",
       "      <th>3</th>\n",
       "      <td>0.03237</td>\n",
       "      <td>0.0</td>\n",
       "      <td>2.18</td>\n",
       "      <td>0</td>\n",
       "      <td>0.458</td>\n",
       "      <td>6.998</td>\n",
       "      <td>45.8</td>\n",
       "      <td>6.0622</td>\n",
       "      <td>3</td>\n",
       "      <td>222</td>\n",
       "      <td>18.7</td>\n",
       "      <td>394.63</td>\n",
       "      <td>2.94</td>\n",
       "      <td>33.4</td>\n",
       "    </tr>\n",
       "    <tr>\n",
       "      <th>4</th>\n",
       "      <td>0.06905</td>\n",
       "      <td>0.0</td>\n",
       "      <td>2.18</td>\n",
       "      <td>0</td>\n",
       "      <td>0.458</td>\n",
       "      <td>7.147</td>\n",
       "      <td>54.2</td>\n",
       "      <td>6.0622</td>\n",
       "      <td>3</td>\n",
       "      <td>222</td>\n",
       "      <td>18.7</td>\n",
       "      <td>396.90</td>\n",
       "      <td>5.33</td>\n",
       "      <td>36.2</td>\n",
       "    </tr>\n",
       "  </tbody>\n",
       "</table>\n",
       "</div>"
      ],
      "text/plain": [
       "      crim    zn  indus  chas    nox     rm   age     dis  rad  tax  ptratio  \\\n",
       "0  0.00632  18.0   2.31     0  0.538  6.575  65.2  4.0900    1  296     15.3   \n",
       "1  0.02731   0.0   7.07     0  0.469  6.421  78.9  4.9671    2  242     17.8   \n",
       "2  0.02729   0.0   7.07     0  0.469  7.185  61.1  4.9671    2  242     17.8   \n",
       "3  0.03237   0.0   2.18     0  0.458  6.998  45.8  6.0622    3  222     18.7   \n",
       "4  0.06905   0.0   2.18     0  0.458  7.147  54.2  6.0622    3  222     18.7   \n",
       "\n",
       "    black  lstat  medv  \n",
       "0  396.90   4.98  24.0  \n",
       "1  396.90   9.14  21.6  \n",
       "2  392.83   4.03  34.7  \n",
       "3  394.63   2.94  33.4  \n",
       "4  396.90   5.33  36.2  "
      ]
     },
     "execution_count": 18,
     "metadata": {},
     "output_type": "execute_result"
    }
   ],
   "source": [
    "Boston = pd.read_csv(\"Boston.csv\")\n",
    "Boston.head()"
   ]
  },
  {
   "cell_type": "markdown",
   "id": "d5ec37bb-8eae-454b-b85d-c84e3f6a6b55",
   "metadata": {},
   "source": [
    "(a) Based on this data set, provide an estimate for the population\n",
    "mean of medv. Call this estimate ˆμ"
   ]
  },
  {
   "cell_type": "code",
   "execution_count": 20,
   "id": "c94e5913-1231-4657-9ce3-a56eaf34372f",
   "metadata": {
    "tags": []
   },
   "outputs": [
    {
     "name": "stdout",
     "output_type": "stream",
     "text": [
      "22.532806324110677\n"
     ]
    }
   ],
   "source": [
    "mu_hat = np.mean(Boston.medv) \n",
    "print(mu_hat)"
   ]
  },
  {
   "cell_type": "markdown",
   "id": "32305fb2-cca9-4b2a-a142-51eea84645f0",
   "metadata": {},
   "source": [
    "(b) Provide an estimate of the standard error of μ^. Interpret this result."
   ]
  },
  {
   "cell_type": "code",
   "execution_count": 21,
   "id": "4a5356d1-ac6d-41a4-82d1-03db51ba7485",
   "metadata": {
    "tags": []
   },
   "outputs": [
    {
     "name": "stdout",
     "output_type": "stream",
     "text": [
      "0.4084569346972867\n"
     ]
    }
   ],
   "source": [
    "mu_hat_se = np.std(Boston.medv)/np.sqrt(len(Boston)) \n",
    "print(mu_hat_se)"
   ]
  },
  {
   "cell_type": "markdown",
   "id": "0a5577af-7777-456e-832c-358267d36672",
   "metadata": {},
   "source": [
    "Interpetation:\n",
    "- 0.408 is our estimate for the standard error of u. Since CMEDV measured in units of 1,000 usd, this estimate translates to $408. "
   ]
  },
  {
   "cell_type": "markdown",
   "id": "1772e11f-39f1-4a39-b894-d74d7ad151bf",
   "metadata": {},
   "source": [
    "(c)"
   ]
  },
  {
   "cell_type": "code",
   "execution_count": 22,
   "id": "38514018-e116-48c2-8b0f-3043f3caca9e",
   "metadata": {
    "tags": []
   },
   "outputs": [
    {
     "name": "stdout",
     "output_type": "stream",
     "text": [
      "mu: 22.45; se: 0.38\n"
     ]
    }
   ],
   "source": [
    "def boot(var, n):\n",
    "    m = np.zeros(n)\n",
    "    for i in range(0, n):\n",
    "        v    = var.sample(frac=1, replace=True)\n",
    "        m[i] = np.mean(v)\n",
    "    res1 = np.mean(m)\n",
    "    res2 = np.std(m)\n",
    "    print('mu: %.2f; se: %.2f' %(res1, res2))\n",
    "    return(res1, res2)\n",
    "\n",
    "result = boot(Boston.medv, 50)"
   ]
  },
  {
   "cell_type": "markdown",
   "id": "3eb584ce-3a38-430b-8971-77b3ef05acf0",
   "metadata": {},
   "source": [
    "This is close to (b) but less then (b)'s standard error"
   ]
  },
  {
   "cell_type": "markdown",
   "id": "f9bafa65-96da-4138-b28e-532d0b0deba5",
   "metadata": {},
   "source": [
    "(d)"
   ]
  },
  {
   "cell_type": "code",
   "execution_count": 23,
   "id": "0b742402-7783-471f-a2d8-308310a79877",
   "metadata": {
    "tags": []
   },
   "outputs": [
    {
     "name": "stdout",
     "output_type": "stream",
     "text": [
      "lowerbd:21.69\n",
      "upperbd:23.21\n"
     ]
    },
    {
     "data": {
      "text/plain": [
       "(21.73032216040747, 23.335290487813882)"
      ]
     },
     "execution_count": 23,
     "metadata": {},
     "output_type": "execute_result"
    }
   ],
   "source": [
    "\n",
    "print('lowerbd:%.2f' %(result[0] - 2*result[1]))\n",
    "print('upperbd:%.2f' %(result[0] + 2*result[1])) \n",
    "\n",
    "from scipy import stats\n",
    "stats.t.interval(0.95,               # confidence level\n",
    "                 df = len(Boston)-1, # degrees of freedom\n",
    "                 loc = mu_hat,       # sample mean\n",
    "                 scale= mu_hat_se)   # sample std dev"
   ]
  },
  {
   "cell_type": "markdown",
   "id": "2db41270-ee77-47a6-99e8-5b34a0febffe",
   "metadata": {},
   "source": [
    "(e)"
   ]
  },
  {
   "cell_type": "code",
   "execution_count": 24,
   "id": "42144f5f-1ffc-4714-bbce-70acf8354ca7",
   "metadata": {
    "tags": []
   },
   "outputs": [
    {
     "name": "stdout",
     "output_type": "stream",
     "text": [
      "21.2\n"
     ]
    }
   ],
   "source": [
    "mu_med_hat = np.median(Boston.medv)\n",
    "print(mu_med_hat)"
   ]
  },
  {
   "cell_type": "markdown",
   "id": "e03c154d-fa1d-4915-9afc-d98b20066c4f",
   "metadata": {},
   "source": [
    "(f)"
   ]
  },
  {
   "cell_type": "code",
   "execution_count": 25,
   "id": "3db2397b-0048-4fd8-8cb2-df3985e54681",
   "metadata": {
    "tags": []
   },
   "outputs": [
    {
     "name": "stdout",
     "output_type": "stream",
     "text": [
      "0.3782856063875545\n"
     ]
    }
   ],
   "source": [
    "def boot(var, n):\n",
    "    m = np.zeros(n)\n",
    "    for i in range(0, n):\n",
    "        v     = var.sample(frac=1, replace=True)\n",
    "        m[i]  = np.median(v)\n",
    "    r = np.std(m) \n",
    "    print(r)\n",
    "\n",
    "result = boot(Boston.medv, 50)"
   ]
  },
  {
   "cell_type": "markdown",
   "id": "0e977fbc-b446-44df-8411-ec67dc6353ac",
   "metadata": {},
   "source": [
    "Comment: \n",
    "    - Using the bootstrap, we have an estimate of 0.38 for the standard error of μ^med. Based on this bootstrap estimate, a 95% confidence interval for the median of CMEDV is approximately [21.2−2×0.38,21.2+2×0.38], or [20.44,21.96]. There is a 95% chance that this confidence interval contains the actual population median of CMEDV."
   ]
  },
  {
   "cell_type": "markdown",
   "id": "e9633de0-3265-4891-9c23-b7c711ce2714",
   "metadata": {},
   "source": [
    "(g)"
   ]
  },
  {
   "cell_type": "code",
   "execution_count": 26,
   "id": "235ac6f9-0446-4bf1-a269-7e96ba5764ff",
   "metadata": {
    "tags": []
   },
   "outputs": [
    {
     "name": "stdout",
     "output_type": "stream",
     "text": [
      "12.75\n"
     ]
    }
   ],
   "source": [
    "mu_10_hat = Boston['medv'].quantile(q=0.1)\n",
    "print(mu_10_hat) "
   ]
  },
  {
   "cell_type": "markdown",
   "id": "062a658f-79b1-4acc-8f77-80c69e36c79a",
   "metadata": {},
   "source": [
    "Comment: \n",
    "- The estimated population tenth percentile of CMEDV is μ^0.1=12.75 In other words, the tenth percentile of median home values for this sample is $12,750, or only 10% of observations in this sample have a CMEDV value of 12.75 or less."
   ]
  },
  {
   "cell_type": "markdown",
   "id": "3cbd397d-da2b-4dac-a0e3-379755961d1d",
   "metadata": {},
   "source": [
    "(h)"
   ]
  },
  {
   "cell_type": "code",
   "execution_count": 27,
   "id": "c528654f-bbaa-4daf-b820-56c7324f3ab6",
   "metadata": {
    "tags": []
   },
   "outputs": [
    {
     "name": "stdout",
     "output_type": "stream",
     "text": [
      "0.41239422886359617\n"
     ]
    }
   ],
   "source": [
    "def boot(var, n):\n",
    "    m = np.zeros(n)\n",
    "    for i in range(0, n):\n",
    "        v     = var.sample(frac=1, replace=True)\n",
    "        m[i]  = v.quantile(q=0.1)\n",
    "    r = np.std(m) \n",
    "    print(r)\n",
    "\n",
    "result = boot(Boston.medv, 50)"
   ]
  },
  {
   "cell_type": "markdown",
   "id": "11b0385d-27bb-4880-a183-4547f58ee9ec",
   "metadata": {},
   "source": [
    "Comment:\n",
    "- Using bootstrap we have an estimate of 0.412 for the standard error of μ^0.1."
   ]
  }
 ],
 "metadata": {
  "kernelspec": {
   "display_name": "Python 3 (ipykernel)",
   "language": "python",
   "name": "python3"
  },
  "language_info": {
   "codemirror_mode": {
    "name": "ipython",
    "version": 3
   },
   "file_extension": ".py",
   "mimetype": "text/x-python",
   "name": "python",
   "nbconvert_exporter": "python",
   "pygments_lexer": "ipython3",
   "version": "3.11.4"
  }
 },
 "nbformat": 4,
 "nbformat_minor": 5
}
